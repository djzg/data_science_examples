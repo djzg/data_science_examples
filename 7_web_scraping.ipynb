{
    "cells": [
        {
            "cell_type": "code",
            "execution_count": 50,
            "source": [
                "import pandas as pd\r\n",
                "import numpy as np\r\n",
                "import matplotlib.pyplot as plt\r\n",
                "from unicodedata import normalize\r\n",
                "import plotly.express as px\r\n",
                "import plotly.graph_objects as go"
            ],
            "outputs": [],
            "metadata": {}
        },
        {
            "cell_type": "code",
            "execution_count": 2,
            "source": [
                "nba_finals = pd.read_html('https://en.wikipedia.org/wiki/NBA_Finals')\r\n"
            ],
            "outputs": [],
            "metadata": {}
        },
        {
            "cell_type": "code",
            "execution_count": 3,
            "source": [
                "print(f'Total tables: {len(nba_finals)}')\r\n"
            ],
            "outputs": [
                {
                    "output_type": "stream",
                    "name": "stdout",
                    "text": [
                        "Total tables: 27\n"
                    ]
                }
            ],
            "metadata": {}
        },
        {
            "cell_type": "code",
            "execution_count": 4,
            "source": [
                "# Narrowing down the tables with match parameter\r\n",
                "nba_finals = pd.read_html('https://en.wikipedia.org/wiki/NBA_Finals', match='Finals appearances')\r\n",
                "print(f'Total tables: {len(nba_finals)}')\r\n"
            ],
            "outputs": [
                {
                    "output_type": "stream",
                    "name": "stdout",
                    "text": [
                        "Total tables: 2\n"
                    ]
                }
            ],
            "metadata": {}
        },
        {
            "cell_type": "code",
            "execution_count": 5,
            "source": [
                "df = nba_finals[1]\r\n",
                "df.head()"
            ],
            "outputs": [
                {
                    "output_type": "execute_result",
                    "data": {
                        "text/plain": [
                            "     P                   Team   W   L    Win  \\\n",
                            "0  185     Los Angeles Lakers  93  92  0.503   \n",
                            "1  129         Boston Celtics  77  52  0.597   \n",
                            "2   53     Philadelphia 76ers  24  29  0.453   \n",
                            "3   59  Golden State Warriors  34  25  0.576   \n",
                            "4   48        New York Knicks  20  28  0.417   \n",
                            "\n",
                            "                                               Notes  \n",
                            "0  Holds the record for the most games in a Final...  \n",
                            "1  Recorded the first ever sweep in the Finals. L...  \n",
                            "2  Includes a record of 9–11 while in Syracuse, a...  \n",
                            "3  Includes records of 10–6 while in Philadelphia...  \n",
                            "4  Lost 4–1 in their last Finals appearance in 1999.  "
                        ],
                        "text/html": [
                            "<div>\n",
                            "<style scoped>\n",
                            "    .dataframe tbody tr th:only-of-type {\n",
                            "        vertical-align: middle;\n",
                            "    }\n",
                            "\n",
                            "    .dataframe tbody tr th {\n",
                            "        vertical-align: top;\n",
                            "    }\n",
                            "\n",
                            "    .dataframe thead th {\n",
                            "        text-align: right;\n",
                            "    }\n",
                            "</style>\n",
                            "<table border=\"1\" class=\"dataframe\">\n",
                            "  <thead>\n",
                            "    <tr style=\"text-align: right;\">\n",
                            "      <th></th>\n",
                            "      <th>P</th>\n",
                            "      <th>Team</th>\n",
                            "      <th>W</th>\n",
                            "      <th>L</th>\n",
                            "      <th>Win</th>\n",
                            "      <th>Notes</th>\n",
                            "    </tr>\n",
                            "  </thead>\n",
                            "  <tbody>\n",
                            "    <tr>\n",
                            "      <th>0</th>\n",
                            "      <td>185</td>\n",
                            "      <td>Los Angeles Lakers</td>\n",
                            "      <td>93</td>\n",
                            "      <td>92</td>\n",
                            "      <td>0.503</td>\n",
                            "      <td>Holds the record for the most games in a Final...</td>\n",
                            "    </tr>\n",
                            "    <tr>\n",
                            "      <th>1</th>\n",
                            "      <td>129</td>\n",
                            "      <td>Boston Celtics</td>\n",
                            "      <td>77</td>\n",
                            "      <td>52</td>\n",
                            "      <td>0.597</td>\n",
                            "      <td>Recorded the first ever sweep in the Finals. L...</td>\n",
                            "    </tr>\n",
                            "    <tr>\n",
                            "      <th>2</th>\n",
                            "      <td>53</td>\n",
                            "      <td>Philadelphia 76ers</td>\n",
                            "      <td>24</td>\n",
                            "      <td>29</td>\n",
                            "      <td>0.453</td>\n",
                            "      <td>Includes a record of 9–11 while in Syracuse, a...</td>\n",
                            "    </tr>\n",
                            "    <tr>\n",
                            "      <th>3</th>\n",
                            "      <td>59</td>\n",
                            "      <td>Golden State Warriors</td>\n",
                            "      <td>34</td>\n",
                            "      <td>25</td>\n",
                            "      <td>0.576</td>\n",
                            "      <td>Includes records of 10–6 while in Philadelphia...</td>\n",
                            "    </tr>\n",
                            "    <tr>\n",
                            "      <th>4</th>\n",
                            "      <td>48</td>\n",
                            "      <td>New York Knicks</td>\n",
                            "      <td>20</td>\n",
                            "      <td>28</td>\n",
                            "      <td>0.417</td>\n",
                            "      <td>Lost 4–1 in their last Finals appearance in 1999.</td>\n",
                            "    </tr>\n",
                            "  </tbody>\n",
                            "</table>\n",
                            "</div>"
                        ]
                    },
                    "metadata": {},
                    "execution_count": 5
                }
            ],
            "metadata": {}
        },
        {
            "cell_type": "code",
            "execution_count": 6,
            "source": [
                "hnl = pd.read_html('https://hr.wikipedia.org/wiki/Prva_hrvatska_nogometna_liga', match='Redni broj', header=0, index_col=0, converters={'Redni broj': str})\r\n",
                "hnl[0]"
            ],
            "outputs": [
                {
                    "output_type": "execute_result",
                    "data": {
                        "text/plain": [
                            "                                   Klub  Prvak  Drugi  Treći  Ukupno\n",
                            "Redni broj                                                          \n",
                            "1.0                              Dinamo     22      4      2      28\n",
                            "2.0                              Hajduk      6     12      6      24\n",
                            "3.0                              Rijeka      1      7      5      13\n",
                            "4.0                              Zagreb      1      2      3       6\n",
                            "5.0                   Lokomotiva Zagreb      0      2      0       2\n",
                            "6.0                              Osijek      0      1      7       8\n",
                            "7.0                       Slaven Belupo      0      1      1       2\n",
                            "8.0                      Inter Zaprešić      0      1      0       1\n",
                            "9.0                            Varaždin      0      0      3       3\n",
                            "10.0        Hrvatski Dragovoljac Zagreb      0      0      1       1\n",
                            "11.0                            Cibalia      0      0      1       1\n",
                            "12.0                              Split      0      0      1       1"
                        ],
                        "text/html": [
                            "<div>\n",
                            "<style scoped>\n",
                            "    .dataframe tbody tr th:only-of-type {\n",
                            "        vertical-align: middle;\n",
                            "    }\n",
                            "\n",
                            "    .dataframe tbody tr th {\n",
                            "        vertical-align: top;\n",
                            "    }\n",
                            "\n",
                            "    .dataframe thead th {\n",
                            "        text-align: right;\n",
                            "    }\n",
                            "</style>\n",
                            "<table border=\"1\" class=\"dataframe\">\n",
                            "  <thead>\n",
                            "    <tr style=\"text-align: right;\">\n",
                            "      <th></th>\n",
                            "      <th>Klub</th>\n",
                            "      <th>Prvak</th>\n",
                            "      <th>Drugi</th>\n",
                            "      <th>Treći</th>\n",
                            "      <th>Ukupno</th>\n",
                            "    </tr>\n",
                            "    <tr>\n",
                            "      <th>Redni broj</th>\n",
                            "      <th></th>\n",
                            "      <th></th>\n",
                            "      <th></th>\n",
                            "      <th></th>\n",
                            "      <th></th>\n",
                            "    </tr>\n",
                            "  </thead>\n",
                            "  <tbody>\n",
                            "    <tr>\n",
                            "      <th>1.0</th>\n",
                            "      <td>Dinamo</td>\n",
                            "      <td>22</td>\n",
                            "      <td>4</td>\n",
                            "      <td>2</td>\n",
                            "      <td>28</td>\n",
                            "    </tr>\n",
                            "    <tr>\n",
                            "      <th>2.0</th>\n",
                            "      <td>Hajduk</td>\n",
                            "      <td>6</td>\n",
                            "      <td>12</td>\n",
                            "      <td>6</td>\n",
                            "      <td>24</td>\n",
                            "    </tr>\n",
                            "    <tr>\n",
                            "      <th>3.0</th>\n",
                            "      <td>Rijeka</td>\n",
                            "      <td>1</td>\n",
                            "      <td>7</td>\n",
                            "      <td>5</td>\n",
                            "      <td>13</td>\n",
                            "    </tr>\n",
                            "    <tr>\n",
                            "      <th>4.0</th>\n",
                            "      <td>Zagreb</td>\n",
                            "      <td>1</td>\n",
                            "      <td>2</td>\n",
                            "      <td>3</td>\n",
                            "      <td>6</td>\n",
                            "    </tr>\n",
                            "    <tr>\n",
                            "      <th>5.0</th>\n",
                            "      <td>Lokomotiva Zagreb</td>\n",
                            "      <td>0</td>\n",
                            "      <td>2</td>\n",
                            "      <td>0</td>\n",
                            "      <td>2</td>\n",
                            "    </tr>\n",
                            "    <tr>\n",
                            "      <th>6.0</th>\n",
                            "      <td>Osijek</td>\n",
                            "      <td>0</td>\n",
                            "      <td>1</td>\n",
                            "      <td>7</td>\n",
                            "      <td>8</td>\n",
                            "    </tr>\n",
                            "    <tr>\n",
                            "      <th>7.0</th>\n",
                            "      <td>Slaven Belupo</td>\n",
                            "      <td>0</td>\n",
                            "      <td>1</td>\n",
                            "      <td>1</td>\n",
                            "      <td>2</td>\n",
                            "    </tr>\n",
                            "    <tr>\n",
                            "      <th>8.0</th>\n",
                            "      <td>Inter Zaprešić</td>\n",
                            "      <td>0</td>\n",
                            "      <td>1</td>\n",
                            "      <td>0</td>\n",
                            "      <td>1</td>\n",
                            "    </tr>\n",
                            "    <tr>\n",
                            "      <th>9.0</th>\n",
                            "      <td>Varaždin</td>\n",
                            "      <td>0</td>\n",
                            "      <td>0</td>\n",
                            "      <td>3</td>\n",
                            "      <td>3</td>\n",
                            "    </tr>\n",
                            "    <tr>\n",
                            "      <th>10.0</th>\n",
                            "      <td>Hrvatski Dragovoljac Zagreb</td>\n",
                            "      <td>0</td>\n",
                            "      <td>0</td>\n",
                            "      <td>1</td>\n",
                            "      <td>1</td>\n",
                            "    </tr>\n",
                            "    <tr>\n",
                            "      <th>11.0</th>\n",
                            "      <td>Cibalia</td>\n",
                            "      <td>0</td>\n",
                            "      <td>0</td>\n",
                            "      <td>1</td>\n",
                            "      <td>1</td>\n",
                            "    </tr>\n",
                            "    <tr>\n",
                            "      <th>12.0</th>\n",
                            "      <td>Split</td>\n",
                            "      <td>0</td>\n",
                            "      <td>0</td>\n",
                            "      <td>1</td>\n",
                            "      <td>1</td>\n",
                            "    </tr>\n",
                            "  </tbody>\n",
                            "</table>\n",
                            "</div>"
                        ]
                    },
                    "metadata": {},
                    "execution_count": 6
                }
            ],
            "metadata": {}
        },
        {
            "cell_type": "code",
            "execution_count": 7,
            "source": [
                "hnl[0].info()"
            ],
            "outputs": [
                {
                    "output_type": "stream",
                    "name": "stdout",
                    "text": [
                        "<class 'pandas.core.frame.DataFrame'>\n",
                        "Float64Index: 12 entries, 1.0 to 12.0\n",
                        "Data columns (total 5 columns):\n",
                        " #   Column  Non-Null Count  Dtype \n",
                        "---  ------  --------------  ----- \n",
                        " 0   Klub    12 non-null     object\n",
                        " 1   Prvak   12 non-null     int64 \n",
                        " 2   Drugi   12 non-null     int64 \n",
                        " 3   Treći   12 non-null     int64 \n",
                        " 4   Ukupno  12 non-null     int64 \n",
                        "dtypes: int64(4), object(1)\n",
                        "memory usage: 576.0+ bytes\n"
                    ]
                }
            ],
            "metadata": {}
        },
        {
            "cell_type": "code",
            "execution_count": 8,
            "source": [
                "hnl_df = pd.DataFrame(hnl[0])"
            ],
            "outputs": [],
            "metadata": {}
        },
        {
            "cell_type": "code",
            "execution_count": 9,
            "source": [
                "hnl_df.shape"
            ],
            "outputs": [
                {
                    "output_type": "execute_result",
                    "data": {
                        "text/plain": [
                            "(12, 5)"
                        ]
                    },
                    "metadata": {},
                    "execution_count": 9
                }
            ],
            "metadata": {}
        },
        {
            "cell_type": "code",
            "execution_count": 13,
            "source": [
                "fig = px.bar(hnl_df, x='Klub', y='Ukupno', color='Prvak')\r\n",
                "fig.show()\r\n"
            ],
            "outputs": [
                {
                    "output_type": "display_data",
                    "data": {
                        "application/vnd.plotly.v1+json": {
                            "config": {
                                "plotlyServerURL": "https://plot.ly"
                            },
                            "data": [
                                {
                                    "alignmentgroup": "True",
                                    "hovertemplate": "Klub=%{x}<br>Ukupno=%{y}<br>Prvak=%{marker.color}<extra></extra>",
                                    "legendgroup": "",
                                    "marker": {
                                        "color": [
                                            22,
                                            6,
                                            1,
                                            1,
                                            0,
                                            0,
                                            0,
                                            0,
                                            0,
                                            0,
                                            0,
                                            0
                                        ],
                                        "coloraxis": "coloraxis",
                                        "pattern": {
                                            "shape": ""
                                        }
                                    },
                                    "name": "",
                                    "offsetgroup": "",
                                    "orientation": "v",
                                    "showlegend": false,
                                    "textposition": "auto",
                                    "type": "bar",
                                    "x": [
                                        "Dinamo",
                                        "Hajduk",
                                        "Rijeka",
                                        "Zagreb",
                                        "Lokomotiva Zagreb",
                                        "Osijek",
                                        "Slaven Belupo",
                                        "Inter Zaprešić",
                                        "Varaždin",
                                        "Hrvatski Dragovoljac Zagreb",
                                        "Cibalia",
                                        "Split"
                                    ],
                                    "xaxis": "x",
                                    "y": [
                                        28,
                                        24,
                                        13,
                                        6,
                                        2,
                                        8,
                                        2,
                                        1,
                                        3,
                                        1,
                                        1,
                                        1
                                    ],
                                    "yaxis": "y"
                                }
                            ],
                            "layout": {
                                "barmode": "relative",
                                "coloraxis": {
                                    "colorbar": {
                                        "title": {
                                            "text": "Prvak"
                                        }
                                    },
                                    "colorscale": [
                                        [
                                            0,
                                            "#0d0887"
                                        ],
                                        [
                                            0.1111111111111111,
                                            "#46039f"
                                        ],
                                        [
                                            0.2222222222222222,
                                            "#7201a8"
                                        ],
                                        [
                                            0.3333333333333333,
                                            "#9c179e"
                                        ],
                                        [
                                            0.4444444444444444,
                                            "#bd3786"
                                        ],
                                        [
                                            0.5555555555555556,
                                            "#d8576b"
                                        ],
                                        [
                                            0.6666666666666666,
                                            "#ed7953"
                                        ],
                                        [
                                            0.7777777777777778,
                                            "#fb9f3a"
                                        ],
                                        [
                                            0.8888888888888888,
                                            "#fdca26"
                                        ],
                                        [
                                            1,
                                            "#f0f921"
                                        ]
                                    ]
                                },
                                "legend": {
                                    "tracegroupgap": 0
                                },
                                "margin": {
                                    "t": 60
                                },
                                "template": {
                                    "data": {
                                        "bar": [
                                            {
                                                "error_x": {
                                                    "color": "#2a3f5f"
                                                },
                                                "error_y": {
                                                    "color": "#2a3f5f"
                                                },
                                                "marker": {
                                                    "line": {
                                                        "color": "#E5ECF6",
                                                        "width": 0.5
                                                    },
                                                    "pattern": {
                                                        "fillmode": "overlay",
                                                        "size": 10,
                                                        "solidity": 0.2
                                                    }
                                                },
                                                "type": "bar"
                                            }
                                        ],
                                        "barpolar": [
                                            {
                                                "marker": {
                                                    "line": {
                                                        "color": "#E5ECF6",
                                                        "width": 0.5
                                                    },
                                                    "pattern": {
                                                        "fillmode": "overlay",
                                                        "size": 10,
                                                        "solidity": 0.2
                                                    }
                                                },
                                                "type": "barpolar"
                                            }
                                        ],
                                        "carpet": [
                                            {
                                                "aaxis": {
                                                    "endlinecolor": "#2a3f5f",
                                                    "gridcolor": "white",
                                                    "linecolor": "white",
                                                    "minorgridcolor": "white",
                                                    "startlinecolor": "#2a3f5f"
                                                },
                                                "baxis": {
                                                    "endlinecolor": "#2a3f5f",
                                                    "gridcolor": "white",
                                                    "linecolor": "white",
                                                    "minorgridcolor": "white",
                                                    "startlinecolor": "#2a3f5f"
                                                },
                                                "type": "carpet"
                                            }
                                        ],
                                        "choropleth": [
                                            {
                                                "colorbar": {
                                                    "outlinewidth": 0,
                                                    "ticks": ""
                                                },
                                                "type": "choropleth"
                                            }
                                        ],
                                        "contour": [
                                            {
                                                "colorbar": {
                                                    "outlinewidth": 0,
                                                    "ticks": ""
                                                },
                                                "colorscale": [
                                                    [
                                                        0,
                                                        "#0d0887"
                                                    ],
                                                    [
                                                        0.1111111111111111,
                                                        "#46039f"
                                                    ],
                                                    [
                                                        0.2222222222222222,
                                                        "#7201a8"
                                                    ],
                                                    [
                                                        0.3333333333333333,
                                                        "#9c179e"
                                                    ],
                                                    [
                                                        0.4444444444444444,
                                                        "#bd3786"
                                                    ],
                                                    [
                                                        0.5555555555555556,
                                                        "#d8576b"
                                                    ],
                                                    [
                                                        0.6666666666666666,
                                                        "#ed7953"
                                                    ],
                                                    [
                                                        0.7777777777777778,
                                                        "#fb9f3a"
                                                    ],
                                                    [
                                                        0.8888888888888888,
                                                        "#fdca26"
                                                    ],
                                                    [
                                                        1,
                                                        "#f0f921"
                                                    ]
                                                ],
                                                "type": "contour"
                                            }
                                        ],
                                        "contourcarpet": [
                                            {
                                                "colorbar": {
                                                    "outlinewidth": 0,
                                                    "ticks": ""
                                                },
                                                "type": "contourcarpet"
                                            }
                                        ],
                                        "heatmap": [
                                            {
                                                "colorbar": {
                                                    "outlinewidth": 0,
                                                    "ticks": ""
                                                },
                                                "colorscale": [
                                                    [
                                                        0,
                                                        "#0d0887"
                                                    ],
                                                    [
                                                        0.1111111111111111,
                                                        "#46039f"
                                                    ],
                                                    [
                                                        0.2222222222222222,
                                                        "#7201a8"
                                                    ],
                                                    [
                                                        0.3333333333333333,
                                                        "#9c179e"
                                                    ],
                                                    [
                                                        0.4444444444444444,
                                                        "#bd3786"
                                                    ],
                                                    [
                                                        0.5555555555555556,
                                                        "#d8576b"
                                                    ],
                                                    [
                                                        0.6666666666666666,
                                                        "#ed7953"
                                                    ],
                                                    [
                                                        0.7777777777777778,
                                                        "#fb9f3a"
                                                    ],
                                                    [
                                                        0.8888888888888888,
                                                        "#fdca26"
                                                    ],
                                                    [
                                                        1,
                                                        "#f0f921"
                                                    ]
                                                ],
                                                "type": "heatmap"
                                            }
                                        ],
                                        "heatmapgl": [
                                            {
                                                "colorbar": {
                                                    "outlinewidth": 0,
                                                    "ticks": ""
                                                },
                                                "colorscale": [
                                                    [
                                                        0,
                                                        "#0d0887"
                                                    ],
                                                    [
                                                        0.1111111111111111,
                                                        "#46039f"
                                                    ],
                                                    [
                                                        0.2222222222222222,
                                                        "#7201a8"
                                                    ],
                                                    [
                                                        0.3333333333333333,
                                                        "#9c179e"
                                                    ],
                                                    [
                                                        0.4444444444444444,
                                                        "#bd3786"
                                                    ],
                                                    [
                                                        0.5555555555555556,
                                                        "#d8576b"
                                                    ],
                                                    [
                                                        0.6666666666666666,
                                                        "#ed7953"
                                                    ],
                                                    [
                                                        0.7777777777777778,
                                                        "#fb9f3a"
                                                    ],
                                                    [
                                                        0.8888888888888888,
                                                        "#fdca26"
                                                    ],
                                                    [
                                                        1,
                                                        "#f0f921"
                                                    ]
                                                ],
                                                "type": "heatmapgl"
                                            }
                                        ],
                                        "histogram": [
                                            {
                                                "marker": {
                                                    "pattern": {
                                                        "fillmode": "overlay",
                                                        "size": 10,
                                                        "solidity": 0.2
                                                    }
                                                },
                                                "type": "histogram"
                                            }
                                        ],
                                        "histogram2d": [
                                            {
                                                "colorbar": {
                                                    "outlinewidth": 0,
                                                    "ticks": ""
                                                },
                                                "colorscale": [
                                                    [
                                                        0,
                                                        "#0d0887"
                                                    ],
                                                    [
                                                        0.1111111111111111,
                                                        "#46039f"
                                                    ],
                                                    [
                                                        0.2222222222222222,
                                                        "#7201a8"
                                                    ],
                                                    [
                                                        0.3333333333333333,
                                                        "#9c179e"
                                                    ],
                                                    [
                                                        0.4444444444444444,
                                                        "#bd3786"
                                                    ],
                                                    [
                                                        0.5555555555555556,
                                                        "#d8576b"
                                                    ],
                                                    [
                                                        0.6666666666666666,
                                                        "#ed7953"
                                                    ],
                                                    [
                                                        0.7777777777777778,
                                                        "#fb9f3a"
                                                    ],
                                                    [
                                                        0.8888888888888888,
                                                        "#fdca26"
                                                    ],
                                                    [
                                                        1,
                                                        "#f0f921"
                                                    ]
                                                ],
                                                "type": "histogram2d"
                                            }
                                        ],
                                        "histogram2dcontour": [
                                            {
                                                "colorbar": {
                                                    "outlinewidth": 0,
                                                    "ticks": ""
                                                },
                                                "colorscale": [
                                                    [
                                                        0,
                                                        "#0d0887"
                                                    ],
                                                    [
                                                        0.1111111111111111,
                                                        "#46039f"
                                                    ],
                                                    [
                                                        0.2222222222222222,
                                                        "#7201a8"
                                                    ],
                                                    [
                                                        0.3333333333333333,
                                                        "#9c179e"
                                                    ],
                                                    [
                                                        0.4444444444444444,
                                                        "#bd3786"
                                                    ],
                                                    [
                                                        0.5555555555555556,
                                                        "#d8576b"
                                                    ],
                                                    [
                                                        0.6666666666666666,
                                                        "#ed7953"
                                                    ],
                                                    [
                                                        0.7777777777777778,
                                                        "#fb9f3a"
                                                    ],
                                                    [
                                                        0.8888888888888888,
                                                        "#fdca26"
                                                    ],
                                                    [
                                                        1,
                                                        "#f0f921"
                                                    ]
                                                ],
                                                "type": "histogram2dcontour"
                                            }
                                        ],
                                        "mesh3d": [
                                            {
                                                "colorbar": {
                                                    "outlinewidth": 0,
                                                    "ticks": ""
                                                },
                                                "type": "mesh3d"
                                            }
                                        ],
                                        "parcoords": [
                                            {
                                                "line": {
                                                    "colorbar": {
                                                        "outlinewidth": 0,
                                                        "ticks": ""
                                                    }
                                                },
                                                "type": "parcoords"
                                            }
                                        ],
                                        "pie": [
                                            {
                                                "automargin": true,
                                                "type": "pie"
                                            }
                                        ],
                                        "scatter": [
                                            {
                                                "marker": {
                                                    "colorbar": {
                                                        "outlinewidth": 0,
                                                        "ticks": ""
                                                    }
                                                },
                                                "type": "scatter"
                                            }
                                        ],
                                        "scatter3d": [
                                            {
                                                "line": {
                                                    "colorbar": {
                                                        "outlinewidth": 0,
                                                        "ticks": ""
                                                    }
                                                },
                                                "marker": {
                                                    "colorbar": {
                                                        "outlinewidth": 0,
                                                        "ticks": ""
                                                    }
                                                },
                                                "type": "scatter3d"
                                            }
                                        ],
                                        "scattercarpet": [
                                            {
                                                "marker": {
                                                    "colorbar": {
                                                        "outlinewidth": 0,
                                                        "ticks": ""
                                                    }
                                                },
                                                "type": "scattercarpet"
                                            }
                                        ],
                                        "scattergeo": [
                                            {
                                                "marker": {
                                                    "colorbar": {
                                                        "outlinewidth": 0,
                                                        "ticks": ""
                                                    }
                                                },
                                                "type": "scattergeo"
                                            }
                                        ],
                                        "scattergl": [
                                            {
                                                "marker": {
                                                    "colorbar": {
                                                        "outlinewidth": 0,
                                                        "ticks": ""
                                                    }
                                                },
                                                "type": "scattergl"
                                            }
                                        ],
                                        "scattermapbox": [
                                            {
                                                "marker": {
                                                    "colorbar": {
                                                        "outlinewidth": 0,
                                                        "ticks": ""
                                                    }
                                                },
                                                "type": "scattermapbox"
                                            }
                                        ],
                                        "scatterpolar": [
                                            {
                                                "marker": {
                                                    "colorbar": {
                                                        "outlinewidth": 0,
                                                        "ticks": ""
                                                    }
                                                },
                                                "type": "scatterpolar"
                                            }
                                        ],
                                        "scatterpolargl": [
                                            {
                                                "marker": {
                                                    "colorbar": {
                                                        "outlinewidth": 0,
                                                        "ticks": ""
                                                    }
                                                },
                                                "type": "scatterpolargl"
                                            }
                                        ],
                                        "scatterternary": [
                                            {
                                                "marker": {
                                                    "colorbar": {
                                                        "outlinewidth": 0,
                                                        "ticks": ""
                                                    }
                                                },
                                                "type": "scatterternary"
                                            }
                                        ],
                                        "surface": [
                                            {
                                                "colorbar": {
                                                    "outlinewidth": 0,
                                                    "ticks": ""
                                                },
                                                "colorscale": [
                                                    [
                                                        0,
                                                        "#0d0887"
                                                    ],
                                                    [
                                                        0.1111111111111111,
                                                        "#46039f"
                                                    ],
                                                    [
                                                        0.2222222222222222,
                                                        "#7201a8"
                                                    ],
                                                    [
                                                        0.3333333333333333,
                                                        "#9c179e"
                                                    ],
                                                    [
                                                        0.4444444444444444,
                                                        "#bd3786"
                                                    ],
                                                    [
                                                        0.5555555555555556,
                                                        "#d8576b"
                                                    ],
                                                    [
                                                        0.6666666666666666,
                                                        "#ed7953"
                                                    ],
                                                    [
                                                        0.7777777777777778,
                                                        "#fb9f3a"
                                                    ],
                                                    [
                                                        0.8888888888888888,
                                                        "#fdca26"
                                                    ],
                                                    [
                                                        1,
                                                        "#f0f921"
                                                    ]
                                                ],
                                                "type": "surface"
                                            }
                                        ],
                                        "table": [
                                            {
                                                "cells": {
                                                    "fill": {
                                                        "color": "#EBF0F8"
                                                    },
                                                    "line": {
                                                        "color": "white"
                                                    }
                                                },
                                                "header": {
                                                    "fill": {
                                                        "color": "#C8D4E3"
                                                    },
                                                    "line": {
                                                        "color": "white"
                                                    }
                                                },
                                                "type": "table"
                                            }
                                        ]
                                    },
                                    "layout": {
                                        "annotationdefaults": {
                                            "arrowcolor": "#2a3f5f",
                                            "arrowhead": 0,
                                            "arrowwidth": 1
                                        },
                                        "autotypenumbers": "strict",
                                        "coloraxis": {
                                            "colorbar": {
                                                "outlinewidth": 0,
                                                "ticks": ""
                                            }
                                        },
                                        "colorscale": {
                                            "diverging": [
                                                [
                                                    0,
                                                    "#8e0152"
                                                ],
                                                [
                                                    0.1,
                                                    "#c51b7d"
                                                ],
                                                [
                                                    0.2,
                                                    "#de77ae"
                                                ],
                                                [
                                                    0.3,
                                                    "#f1b6da"
                                                ],
                                                [
                                                    0.4,
                                                    "#fde0ef"
                                                ],
                                                [
                                                    0.5,
                                                    "#f7f7f7"
                                                ],
                                                [
                                                    0.6,
                                                    "#e6f5d0"
                                                ],
                                                [
                                                    0.7,
                                                    "#b8e186"
                                                ],
                                                [
                                                    0.8,
                                                    "#7fbc41"
                                                ],
                                                [
                                                    0.9,
                                                    "#4d9221"
                                                ],
                                                [
                                                    1,
                                                    "#276419"
                                                ]
                                            ],
                                            "sequential": [
                                                [
                                                    0,
                                                    "#0d0887"
                                                ],
                                                [
                                                    0.1111111111111111,
                                                    "#46039f"
                                                ],
                                                [
                                                    0.2222222222222222,
                                                    "#7201a8"
                                                ],
                                                [
                                                    0.3333333333333333,
                                                    "#9c179e"
                                                ],
                                                [
                                                    0.4444444444444444,
                                                    "#bd3786"
                                                ],
                                                [
                                                    0.5555555555555556,
                                                    "#d8576b"
                                                ],
                                                [
                                                    0.6666666666666666,
                                                    "#ed7953"
                                                ],
                                                [
                                                    0.7777777777777778,
                                                    "#fb9f3a"
                                                ],
                                                [
                                                    0.8888888888888888,
                                                    "#fdca26"
                                                ],
                                                [
                                                    1,
                                                    "#f0f921"
                                                ]
                                            ],
                                            "sequentialminus": [
                                                [
                                                    0,
                                                    "#0d0887"
                                                ],
                                                [
                                                    0.1111111111111111,
                                                    "#46039f"
                                                ],
                                                [
                                                    0.2222222222222222,
                                                    "#7201a8"
                                                ],
                                                [
                                                    0.3333333333333333,
                                                    "#9c179e"
                                                ],
                                                [
                                                    0.4444444444444444,
                                                    "#bd3786"
                                                ],
                                                [
                                                    0.5555555555555556,
                                                    "#d8576b"
                                                ],
                                                [
                                                    0.6666666666666666,
                                                    "#ed7953"
                                                ],
                                                [
                                                    0.7777777777777778,
                                                    "#fb9f3a"
                                                ],
                                                [
                                                    0.8888888888888888,
                                                    "#fdca26"
                                                ],
                                                [
                                                    1,
                                                    "#f0f921"
                                                ]
                                            ]
                                        },
                                        "colorway": [
                                            "#636efa",
                                            "#EF553B",
                                            "#00cc96",
                                            "#ab63fa",
                                            "#FFA15A",
                                            "#19d3f3",
                                            "#FF6692",
                                            "#B6E880",
                                            "#FF97FF",
                                            "#FECB52"
                                        ],
                                        "font": {
                                            "color": "#2a3f5f"
                                        },
                                        "geo": {
                                            "bgcolor": "white",
                                            "lakecolor": "white",
                                            "landcolor": "#E5ECF6",
                                            "showlakes": true,
                                            "showland": true,
                                            "subunitcolor": "white"
                                        },
                                        "hoverlabel": {
                                            "align": "left"
                                        },
                                        "hovermode": "closest",
                                        "mapbox": {
                                            "style": "light"
                                        },
                                        "paper_bgcolor": "white",
                                        "plot_bgcolor": "#E5ECF6",
                                        "polar": {
                                            "angularaxis": {
                                                "gridcolor": "white",
                                                "linecolor": "white",
                                                "ticks": ""
                                            },
                                            "bgcolor": "#E5ECF6",
                                            "radialaxis": {
                                                "gridcolor": "white",
                                                "linecolor": "white",
                                                "ticks": ""
                                            }
                                        },
                                        "scene": {
                                            "xaxis": {
                                                "backgroundcolor": "#E5ECF6",
                                                "gridcolor": "white",
                                                "gridwidth": 2,
                                                "linecolor": "white",
                                                "showbackground": true,
                                                "ticks": "",
                                                "zerolinecolor": "white"
                                            },
                                            "yaxis": {
                                                "backgroundcolor": "#E5ECF6",
                                                "gridcolor": "white",
                                                "gridwidth": 2,
                                                "linecolor": "white",
                                                "showbackground": true,
                                                "ticks": "",
                                                "zerolinecolor": "white"
                                            },
                                            "zaxis": {
                                                "backgroundcolor": "#E5ECF6",
                                                "gridcolor": "white",
                                                "gridwidth": 2,
                                                "linecolor": "white",
                                                "showbackground": true,
                                                "ticks": "",
                                                "zerolinecolor": "white"
                                            }
                                        },
                                        "shapedefaults": {
                                            "line": {
                                                "color": "#2a3f5f"
                                            }
                                        },
                                        "ternary": {
                                            "aaxis": {
                                                "gridcolor": "white",
                                                "linecolor": "white",
                                                "ticks": ""
                                            },
                                            "baxis": {
                                                "gridcolor": "white",
                                                "linecolor": "white",
                                                "ticks": ""
                                            },
                                            "bgcolor": "#E5ECF6",
                                            "caxis": {
                                                "gridcolor": "white",
                                                "linecolor": "white",
                                                "ticks": ""
                                            }
                                        },
                                        "title": {
                                            "x": 0.05
                                        },
                                        "xaxis": {
                                            "automargin": true,
                                            "gridcolor": "white",
                                            "linecolor": "white",
                                            "ticks": "",
                                            "title": {
                                                "standoff": 15
                                            },
                                            "zerolinecolor": "white",
                                            "zerolinewidth": 2
                                        },
                                        "yaxis": {
                                            "automargin": true,
                                            "gridcolor": "white",
                                            "linecolor": "white",
                                            "ticks": "",
                                            "title": {
                                                "standoff": 15
                                            },
                                            "zerolinecolor": "white",
                                            "zerolinewidth": 2
                                        }
                                    }
                                },
                                "xaxis": {
                                    "anchor": "y",
                                    "domain": [
                                        0,
                                        1
                                    ],
                                    "title": {
                                        "text": "Klub"
                                    }
                                },
                                "yaxis": {
                                    "anchor": "x",
                                    "domain": [
                                        0,
                                        1
                                    ],
                                    "title": {
                                        "text": "Ukupno"
                                    }
                                }
                            }
                        }
                    },
                    "metadata": {}
                }
            ],
            "metadata": {}
        },
        {
            "cell_type": "code",
            "execution_count": 72,
            "source": [
                "import requests\r\n",
                "from bs4 import BeautifulSoup"
            ],
            "outputs": [],
            "metadata": {}
        },
        {
            "cell_type": "code",
            "execution_count": 86,
            "source": [
                "url = 'https://en.wikipedia.org/wiki/Triple_jump_world_record_progression'\r\n",
                "\r\n",
                "column_names = []\r\n",
                "data = []\r\n",
                "\r\n",
                "# Create a handle, page, to handle the contents of the website\r\n",
                "page = requests.get(url)\r\n",
                "\r\n",
                "# Store the html in the soup object\r\n",
                "soup = BeautifulSoup(page.content, 'html.parser')\r\n",
                "\r\n",
                "# Gets the table html\r\n",
                "table = soup.find_all('table')[0]\r\n",
                "\r\n",
                "# Gets the table header\r\n",
                "thead = table.find_all('th')\r\n",
                "\r\n",
                "# Puts the header into the column names list. This will be used for the dict keys later\r\n",
                "for th in thead:\r\n",
                "  column_names.append(th.get_text())\r\n",
                "\r\n",
                "# Gets all the rows of the table\r\n",
                "rows = table.find_all('tr')\r\n",
                "# Not using first row as it's header\r\n",
                "for row in rows[1:]:\r\n",
                "  # Creates a list with each index being a different entry in the row\r\n",
                "  values = [r for r in row]\r\n",
                "  # Gets each values that we care about\r\n",
                "  mark = values[1].get_text()\r\n",
                "  athlete = values[5].get_text()\r\n",
                "  date = values[7].get_text()\r\n",
                "  location = values[9].get_text()\r\n",
                "  temp_list = [mark, athlete, date, location]\r\n",
                "  # Creates a dictionary with keys being the column names and values being temp_list\r\n",
                "  data.append(dict(zip(column_names, temp_list)))\r\n",
                "\r\n",
                "triple_jump_df = pd.DataFrame(data)\r\n",
                "triple_jump_df\r\n",
                "\r\n"
            ],
            "outputs": [
                {
                    "output_type": "execute_result",
                    "data": {
                        "text/plain": [
                            "                          Mark                            Wind  \\\n",
                            "0        15.52 m (50 ft 11 in)                Dan Ahearn (USA)   \n",
                            "1        15.52 m (50 ft 11 in)               Nick Winter (AUS)   \n",
                            "2     15.58 m (51 ft 1+1⁄4 in)                 Mikio Oda (JPN)   \n",
                            "3     15.72 m (51 ft 6+3⁄4 in)              Chuhei Nambu (JPN)   \n",
                            "4     15.78 m (51 ft 9+1⁄4 in)             Jack Metcalfe (AUS)   \n",
                            "5     16.00 m (52 ft 5+3⁄4 in)              Naoto Tajima (JPN)   \n",
                            "6     16.00 m (52 ft 5+3⁄4 in)          Adhemar da Silva (BRA)   \n",
                            "7     16.01 m (52 ft 6+1⁄4 in)          Adhemar da Silva (BRA)   \n",
                            "8    16.12 m (52 ft 10+1⁄2 in)          Adhemar da Silva (BRA)   \n",
                            "9     16.22 m (53 ft 2+1⁄2 in)          Adhemar da Silva (BRA)   \n",
                            "10    16.23 m (53 ft 2+3⁄4 in)        Leonid Shcherbakov (URS)   \n",
                            "11  16.56 m (54 ft 3+3⁄4 in) A          Adhemar da Silva (BRA)   \n",
                            "12        16.59 m (54 ft 5 in)          Oleg Ryakhovskiy (URS)   \n",
                            "13    16.70 m (54 ft 9+1⁄4 in)           Oleg Fyodoseyev (URS)   \n",
                            "14   17.03 m (55 ft 10+1⁄4 in)              Józef Szmidt (POL)   \n",
                            "15      17.10 m (56 ft 1 in) A          Giuseppe Gentile (ITA)   \n",
                            "16  17.22 m (56 ft 5+3⁄4 in) A          Giuseppe Gentile (ITA)   \n",
                            "17  17.23 m (56 ft 6+1⁄4 in) A           Viktor Sanyeyev (URS)   \n",
                            "18  17.27 m (56 ft 7+3⁄4 in) A          Nelson Prudêncio (BRA)   \n",
                            "19    17.39 m (57 ft 1⁄2 in) A           Viktor Sanyeyev (URS)   \n",
                            "20      17.40 m (57 ft 1 in) A               Pedro Pérez (CUB)   \n",
                            "21    17.44 m (57 ft 2+1⁄2 in)           Viktor Sanyeyev (URS)   \n",
                            "22  17.89 m (58 ft 8+1⁄4 in) A   João Carlos de Oliveira (BRA)   \n",
                            "23   17.97 m (58 ft 11+1⁄4 in)              Willie Banks (USA)   \n",
                            "24   17.98 m (58 ft 11+3⁄4 in)          Jonathan Edwards (GBR)   \n",
                            "25    18.16 m (59 ft 6+3⁄4 in)          Jonathan Edwards (GBR)   \n",
                            "26        18.29 m (60 ft 0 in)          Jonathan Edwards (GBR)   \n",
                            "\n",
                            "                        Athlete                         Date  \n",
                            "0         1911-05-3030 May 1911     New York City, U.S.[1]\\n  \n",
                            "1        1924-07-1212 July 1924           Paris, France[1]\\n  \n",
                            "2     1931-10-2727 October 1931            Tokyo, Japan[1]\\n  \n",
                            "3      1932-08-1414 August 1932       Los Angeles, U.S.[1]\\n  \n",
                            "4    1935-12-1414 December 1935       Sydney, Australia[1]\\n  \n",
                            "5       1936-08-066 August 1936         Berlin, Germany[1]\\n  \n",
                            "6     1950-12-033 December 1950       São Paulo, Brazil[1]\\n  \n",
                            "7   1951-09-3030 September 1951  Rio de Janeiro, Brazil[1]\\n  \n",
                            "8        1952-07-2323 July 1952       Helsinki, Finland[1]\\n  \n",
                            "9        1952-07-2323 July 1952       Helsinki, Finland[1]\\n  \n",
                            "10       1953-07-1919 July 1953    Moscow, Soviet Union[1]\\n  \n",
                            "11      1955-03-1616 March 1955     Mexico City, Mexico[1]\\n  \n",
                            "12       1958-07-2828 July 1958    Moscow, Soviet Union[1]\\n  \n",
                            "13         1959-05-033 May 1959   Nalchik, Soviet Union[1]\\n  \n",
                            "14      1960-08-055 August 1960         Olsztyn, Poland[1]\\n  \n",
                            "15    1968-10-1616 October 1968     Mexico City, Mexico[1]\\n  \n",
                            "16    1968-10-1717 October 1968     Mexico City, Mexico[1]\\n  \n",
                            "17    1968-10-1717 October 1968     Mexico City, Mexico[1]\\n  \n",
                            "18    1968-10-1717 October 1968     Mexico City, Mexico[1]\\n  \n",
                            "19    1968-10-1717 October 1968     Mexico City, Mexico[1]\\n  \n",
                            "20      1971-08-055 August 1971          Cali, Colombia[1]\\n  \n",
                            "21    1972-10-1717 October 1972   Sukhumi, Soviet Union[1]\\n  \n",
                            "22    1975-10-1515 October 1975     Mexico City, Mexico[1]\\n  \n",
                            "23       1985-06-1616 June 1985      Indianapolis, U.S.[1]\\n  \n",
                            "24       1995-07-1818 July 1995        Salamanca, Spain[1]\\n  \n",
                            "25      1995-08-077 August 1995      Gothenburg, Sweden[1]\\n  \n",
                            "26      1995-08-077 August 1995      Gothenburg, Sweden[1]\\n  "
                        ],
                        "text/html": [
                            "<div>\n",
                            "<style scoped>\n",
                            "    .dataframe tbody tr th:only-of-type {\n",
                            "        vertical-align: middle;\n",
                            "    }\n",
                            "\n",
                            "    .dataframe tbody tr th {\n",
                            "        vertical-align: top;\n",
                            "    }\n",
                            "\n",
                            "    .dataframe thead th {\n",
                            "        text-align: right;\n",
                            "    }\n",
                            "</style>\n",
                            "<table border=\"1\" class=\"dataframe\">\n",
                            "  <thead>\n",
                            "    <tr style=\"text-align: right;\">\n",
                            "      <th></th>\n",
                            "      <th>Mark</th>\n",
                            "      <th>Wind</th>\n",
                            "      <th>Athlete</th>\n",
                            "      <th>Date</th>\n",
                            "    </tr>\n",
                            "  </thead>\n",
                            "  <tbody>\n",
                            "    <tr>\n",
                            "      <th>0</th>\n",
                            "      <td>15.52 m (50 ft 11 in)</td>\n",
                            "      <td>Dan Ahearn (USA)</td>\n",
                            "      <td>1911-05-3030 May 1911</td>\n",
                            "      <td>New York City, U.S.[1]\\n</td>\n",
                            "    </tr>\n",
                            "    <tr>\n",
                            "      <th>1</th>\n",
                            "      <td>15.52 m (50 ft 11 in)</td>\n",
                            "      <td>Nick Winter (AUS)</td>\n",
                            "      <td>1924-07-1212 July 1924</td>\n",
                            "      <td>Paris, France[1]\\n</td>\n",
                            "    </tr>\n",
                            "    <tr>\n",
                            "      <th>2</th>\n",
                            "      <td>15.58 m (51 ft 1+1⁄4 in)</td>\n",
                            "      <td>Mikio Oda (JPN)</td>\n",
                            "      <td>1931-10-2727 October 1931</td>\n",
                            "      <td>Tokyo, Japan[1]\\n</td>\n",
                            "    </tr>\n",
                            "    <tr>\n",
                            "      <th>3</th>\n",
                            "      <td>15.72 m (51 ft 6+3⁄4 in)</td>\n",
                            "      <td>Chuhei Nambu (JPN)</td>\n",
                            "      <td>1932-08-1414 August 1932</td>\n",
                            "      <td>Los Angeles, U.S.[1]\\n</td>\n",
                            "    </tr>\n",
                            "    <tr>\n",
                            "      <th>4</th>\n",
                            "      <td>15.78 m (51 ft 9+1⁄4 in)</td>\n",
                            "      <td>Jack Metcalfe (AUS)</td>\n",
                            "      <td>1935-12-1414 December 1935</td>\n",
                            "      <td>Sydney, Australia[1]\\n</td>\n",
                            "    </tr>\n",
                            "    <tr>\n",
                            "      <th>5</th>\n",
                            "      <td>16.00 m (52 ft 5+3⁄4 in)</td>\n",
                            "      <td>Naoto Tajima (JPN)</td>\n",
                            "      <td>1936-08-066 August 1936</td>\n",
                            "      <td>Berlin, Germany[1]\\n</td>\n",
                            "    </tr>\n",
                            "    <tr>\n",
                            "      <th>6</th>\n",
                            "      <td>16.00 m (52 ft 5+3⁄4 in)</td>\n",
                            "      <td>Adhemar da Silva (BRA)</td>\n",
                            "      <td>1950-12-033 December 1950</td>\n",
                            "      <td>São Paulo, Brazil[1]\\n</td>\n",
                            "    </tr>\n",
                            "    <tr>\n",
                            "      <th>7</th>\n",
                            "      <td>16.01 m (52 ft 6+1⁄4 in)</td>\n",
                            "      <td>Adhemar da Silva (BRA)</td>\n",
                            "      <td>1951-09-3030 September 1951</td>\n",
                            "      <td>Rio de Janeiro, Brazil[1]\\n</td>\n",
                            "    </tr>\n",
                            "    <tr>\n",
                            "      <th>8</th>\n",
                            "      <td>16.12 m (52 ft 10+1⁄2 in)</td>\n",
                            "      <td>Adhemar da Silva (BRA)</td>\n",
                            "      <td>1952-07-2323 July 1952</td>\n",
                            "      <td>Helsinki, Finland[1]\\n</td>\n",
                            "    </tr>\n",
                            "    <tr>\n",
                            "      <th>9</th>\n",
                            "      <td>16.22 m (53 ft 2+1⁄2 in)</td>\n",
                            "      <td>Adhemar da Silva (BRA)</td>\n",
                            "      <td>1952-07-2323 July 1952</td>\n",
                            "      <td>Helsinki, Finland[1]\\n</td>\n",
                            "    </tr>\n",
                            "    <tr>\n",
                            "      <th>10</th>\n",
                            "      <td>16.23 m (53 ft 2+3⁄4 in)</td>\n",
                            "      <td>Leonid Shcherbakov (URS)</td>\n",
                            "      <td>1953-07-1919 July 1953</td>\n",
                            "      <td>Moscow, Soviet Union[1]\\n</td>\n",
                            "    </tr>\n",
                            "    <tr>\n",
                            "      <th>11</th>\n",
                            "      <td>16.56 m (54 ft 3+3⁄4 in) A</td>\n",
                            "      <td>Adhemar da Silva (BRA)</td>\n",
                            "      <td>1955-03-1616 March 1955</td>\n",
                            "      <td>Mexico City, Mexico[1]\\n</td>\n",
                            "    </tr>\n",
                            "    <tr>\n",
                            "      <th>12</th>\n",
                            "      <td>16.59 m (54 ft 5 in)</td>\n",
                            "      <td>Oleg Ryakhovskiy (URS)</td>\n",
                            "      <td>1958-07-2828 July 1958</td>\n",
                            "      <td>Moscow, Soviet Union[1]\\n</td>\n",
                            "    </tr>\n",
                            "    <tr>\n",
                            "      <th>13</th>\n",
                            "      <td>16.70 m (54 ft 9+1⁄4 in)</td>\n",
                            "      <td>Oleg Fyodoseyev (URS)</td>\n",
                            "      <td>1959-05-033 May 1959</td>\n",
                            "      <td>Nalchik, Soviet Union[1]\\n</td>\n",
                            "    </tr>\n",
                            "    <tr>\n",
                            "      <th>14</th>\n",
                            "      <td>17.03 m (55 ft 10+1⁄4 in)</td>\n",
                            "      <td>Józef Szmidt (POL)</td>\n",
                            "      <td>1960-08-055 August 1960</td>\n",
                            "      <td>Olsztyn, Poland[1]\\n</td>\n",
                            "    </tr>\n",
                            "    <tr>\n",
                            "      <th>15</th>\n",
                            "      <td>17.10 m (56 ft 1 in) A</td>\n",
                            "      <td>Giuseppe Gentile (ITA)</td>\n",
                            "      <td>1968-10-1616 October 1968</td>\n",
                            "      <td>Mexico City, Mexico[1]\\n</td>\n",
                            "    </tr>\n",
                            "    <tr>\n",
                            "      <th>16</th>\n",
                            "      <td>17.22 m (56 ft 5+3⁄4 in) A</td>\n",
                            "      <td>Giuseppe Gentile (ITA)</td>\n",
                            "      <td>1968-10-1717 October 1968</td>\n",
                            "      <td>Mexico City, Mexico[1]\\n</td>\n",
                            "    </tr>\n",
                            "    <tr>\n",
                            "      <th>17</th>\n",
                            "      <td>17.23 m (56 ft 6+1⁄4 in) A</td>\n",
                            "      <td>Viktor Sanyeyev (URS)</td>\n",
                            "      <td>1968-10-1717 October 1968</td>\n",
                            "      <td>Mexico City, Mexico[1]\\n</td>\n",
                            "    </tr>\n",
                            "    <tr>\n",
                            "      <th>18</th>\n",
                            "      <td>17.27 m (56 ft 7+3⁄4 in) A</td>\n",
                            "      <td>Nelson Prudêncio (BRA)</td>\n",
                            "      <td>1968-10-1717 October 1968</td>\n",
                            "      <td>Mexico City, Mexico[1]\\n</td>\n",
                            "    </tr>\n",
                            "    <tr>\n",
                            "      <th>19</th>\n",
                            "      <td>17.39 m (57 ft 1⁄2 in) A</td>\n",
                            "      <td>Viktor Sanyeyev (URS)</td>\n",
                            "      <td>1968-10-1717 October 1968</td>\n",
                            "      <td>Mexico City, Mexico[1]\\n</td>\n",
                            "    </tr>\n",
                            "    <tr>\n",
                            "      <th>20</th>\n",
                            "      <td>17.40 m (57 ft 1 in) A</td>\n",
                            "      <td>Pedro Pérez (CUB)</td>\n",
                            "      <td>1971-08-055 August 1971</td>\n",
                            "      <td>Cali, Colombia[1]\\n</td>\n",
                            "    </tr>\n",
                            "    <tr>\n",
                            "      <th>21</th>\n",
                            "      <td>17.44 m (57 ft 2+1⁄2 in)</td>\n",
                            "      <td>Viktor Sanyeyev (URS)</td>\n",
                            "      <td>1972-10-1717 October 1972</td>\n",
                            "      <td>Sukhumi, Soviet Union[1]\\n</td>\n",
                            "    </tr>\n",
                            "    <tr>\n",
                            "      <th>22</th>\n",
                            "      <td>17.89 m (58 ft 8+1⁄4 in) A</td>\n",
                            "      <td>João Carlos de Oliveira (BRA)</td>\n",
                            "      <td>1975-10-1515 October 1975</td>\n",
                            "      <td>Mexico City, Mexico[1]\\n</td>\n",
                            "    </tr>\n",
                            "    <tr>\n",
                            "      <th>23</th>\n",
                            "      <td>17.97 m (58 ft 11+1⁄4 in)</td>\n",
                            "      <td>Willie Banks (USA)</td>\n",
                            "      <td>1985-06-1616 June 1985</td>\n",
                            "      <td>Indianapolis, U.S.[1]\\n</td>\n",
                            "    </tr>\n",
                            "    <tr>\n",
                            "      <th>24</th>\n",
                            "      <td>17.98 m (58 ft 11+3⁄4 in)</td>\n",
                            "      <td>Jonathan Edwards (GBR)</td>\n",
                            "      <td>1995-07-1818 July 1995</td>\n",
                            "      <td>Salamanca, Spain[1]\\n</td>\n",
                            "    </tr>\n",
                            "    <tr>\n",
                            "      <th>25</th>\n",
                            "      <td>18.16 m (59 ft 6+3⁄4 in)</td>\n",
                            "      <td>Jonathan Edwards (GBR)</td>\n",
                            "      <td>1995-08-077 August 1995</td>\n",
                            "      <td>Gothenburg, Sweden[1]\\n</td>\n",
                            "    </tr>\n",
                            "    <tr>\n",
                            "      <th>26</th>\n",
                            "      <td>18.29 m (60 ft 0 in)</td>\n",
                            "      <td>Jonathan Edwards (GBR)</td>\n",
                            "      <td>1995-08-077 August 1995</td>\n",
                            "      <td>Gothenburg, Sweden[1]\\n</td>\n",
                            "    </tr>\n",
                            "  </tbody>\n",
                            "</table>\n",
                            "</div>"
                        ]
                    },
                    "metadata": {},
                    "execution_count": 86
                }
            ],
            "metadata": {}
        },
        {
            "cell_type": "code",
            "execution_count": 88,
            "source": [
                "# Insert country column using Athlete string slice\r\n",
                "triple_jump_df.insert(3, 'Country', triple_jump_df['Athlete'].str.slice(start=-4, stop=-1, step=1))"
            ],
            "outputs": [
                {
                    "output_type": "error",
                    "ename": "ValueError",
                    "evalue": "cannot insert Country, already exists",
                    "traceback": [
                        "\u001b[1;31m---------------------------------------------------------------------------\u001b[0m",
                        "\u001b[1;31mValueError\u001b[0m                                Traceback (most recent call last)",
                        "\u001b[1;32m<ipython-input-88-58116c287d47>\u001b[0m in \u001b[0;36m<module>\u001b[1;34m\u001b[0m\n\u001b[1;32m----> 1\u001b[1;33m \u001b[0mtriple_jump_df\u001b[0m\u001b[1;33m.\u001b[0m\u001b[0minsert\u001b[0m\u001b[1;33m(\u001b[0m\u001b[1;36m3\u001b[0m\u001b[1;33m,\u001b[0m \u001b[1;34m'Country'\u001b[0m\u001b[1;33m,\u001b[0m \u001b[0mtriple_jump_df\u001b[0m\u001b[1;33m[\u001b[0m\u001b[1;34m'Athlete'\u001b[0m\u001b[1;33m]\u001b[0m\u001b[1;33m.\u001b[0m\u001b[0mstr\u001b[0m\u001b[1;33m.\u001b[0m\u001b[0mslice\u001b[0m\u001b[1;33m(\u001b[0m\u001b[0mstart\u001b[0m\u001b[1;33m=\u001b[0m\u001b[1;33m-\u001b[0m\u001b[1;36m4\u001b[0m\u001b[1;33m,\u001b[0m \u001b[0mstop\u001b[0m\u001b[1;33m=\u001b[0m\u001b[1;33m-\u001b[0m\u001b[1;36m1\u001b[0m\u001b[1;33m,\u001b[0m \u001b[0mstep\u001b[0m\u001b[1;33m=\u001b[0m\u001b[1;36m1\u001b[0m\u001b[1;33m)\u001b[0m\u001b[1;33m)\u001b[0m\u001b[1;33m\u001b[0m\u001b[1;33m\u001b[0m\u001b[0m\n\u001b[0m",
                        "\u001b[1;32mC:\\ProgramData\\Anaconda3\\lib\\site-packages\\pandas\\core\\frame.py\u001b[0m in \u001b[0;36minsert\u001b[1;34m(self, loc, column, value, allow_duplicates)\u001b[0m\n\u001b[0;32m   3494\u001b[0m         \u001b[0mself\u001b[0m\u001b[1;33m.\u001b[0m\u001b[0m_ensure_valid_index\u001b[0m\u001b[1;33m(\u001b[0m\u001b[0mvalue\u001b[0m\u001b[1;33m)\u001b[0m\u001b[1;33m\u001b[0m\u001b[1;33m\u001b[0m\u001b[0m\n\u001b[0;32m   3495\u001b[0m         \u001b[0mvalue\u001b[0m \u001b[1;33m=\u001b[0m \u001b[0mself\u001b[0m\u001b[1;33m.\u001b[0m\u001b[0m_sanitize_column\u001b[0m\u001b[1;33m(\u001b[0m\u001b[0mcolumn\u001b[0m\u001b[1;33m,\u001b[0m \u001b[0mvalue\u001b[0m\u001b[1;33m,\u001b[0m \u001b[0mbroadcast\u001b[0m\u001b[1;33m=\u001b[0m\u001b[1;32mFalse\u001b[0m\u001b[1;33m)\u001b[0m\u001b[1;33m\u001b[0m\u001b[1;33m\u001b[0m\u001b[0m\n\u001b[1;32m-> 3496\u001b[1;33m         \u001b[0mself\u001b[0m\u001b[1;33m.\u001b[0m\u001b[0m_data\u001b[0m\u001b[1;33m.\u001b[0m\u001b[0minsert\u001b[0m\u001b[1;33m(\u001b[0m\u001b[0mloc\u001b[0m\u001b[1;33m,\u001b[0m \u001b[0mcolumn\u001b[0m\u001b[1;33m,\u001b[0m \u001b[0mvalue\u001b[0m\u001b[1;33m,\u001b[0m \u001b[0mallow_duplicates\u001b[0m\u001b[1;33m=\u001b[0m\u001b[0mallow_duplicates\u001b[0m\u001b[1;33m)\u001b[0m\u001b[1;33m\u001b[0m\u001b[1;33m\u001b[0m\u001b[0m\n\u001b[0m\u001b[0;32m   3497\u001b[0m \u001b[1;33m\u001b[0m\u001b[0m\n\u001b[0;32m   3498\u001b[0m     \u001b[1;32mdef\u001b[0m \u001b[0massign\u001b[0m\u001b[1;33m(\u001b[0m\u001b[0mself\u001b[0m\u001b[1;33m,\u001b[0m \u001b[1;33m**\u001b[0m\u001b[0mkwargs\u001b[0m\u001b[1;33m)\u001b[0m \u001b[1;33m->\u001b[0m \u001b[1;34m\"DataFrame\"\u001b[0m\u001b[1;33m:\u001b[0m\u001b[1;33m\u001b[0m\u001b[1;33m\u001b[0m\u001b[0m\n",
                        "\u001b[1;32mC:\\ProgramData\\Anaconda3\\lib\\site-packages\\pandas\\core\\internals\\managers.py\u001b[0m in \u001b[0;36minsert\u001b[1;34m(self, loc, item, value, allow_duplicates)\u001b[0m\n\u001b[0;32m   1171\u001b[0m         \u001b[1;32mif\u001b[0m \u001b[1;32mnot\u001b[0m \u001b[0mallow_duplicates\u001b[0m \u001b[1;32mand\u001b[0m \u001b[0mitem\u001b[0m \u001b[1;32min\u001b[0m \u001b[0mself\u001b[0m\u001b[1;33m.\u001b[0m\u001b[0mitems\u001b[0m\u001b[1;33m:\u001b[0m\u001b[1;33m\u001b[0m\u001b[1;33m\u001b[0m\u001b[0m\n\u001b[0;32m   1172\u001b[0m             \u001b[1;31m# Should this be a different kind of error??\u001b[0m\u001b[1;33m\u001b[0m\u001b[1;33m\u001b[0m\u001b[1;33m\u001b[0m\u001b[0m\n\u001b[1;32m-> 1173\u001b[1;33m             \u001b[1;32mraise\u001b[0m \u001b[0mValueError\u001b[0m\u001b[1;33m(\u001b[0m\u001b[1;34mf\"cannot insert {item}, already exists\"\u001b[0m\u001b[1;33m)\u001b[0m\u001b[1;33m\u001b[0m\u001b[1;33m\u001b[0m\u001b[0m\n\u001b[0m\u001b[0;32m   1174\u001b[0m \u001b[1;33m\u001b[0m\u001b[0m\n\u001b[0;32m   1175\u001b[0m         \u001b[1;32mif\u001b[0m \u001b[1;32mnot\u001b[0m \u001b[0misinstance\u001b[0m\u001b[1;33m(\u001b[0m\u001b[0mloc\u001b[0m\u001b[1;33m,\u001b[0m \u001b[0mint\u001b[0m\u001b[1;33m)\u001b[0m\u001b[1;33m:\u001b[0m\u001b[1;33m\u001b[0m\u001b[1;33m\u001b[0m\u001b[0m\n",
                        "\u001b[1;31mValueError\u001b[0m: cannot insert Country, already exists"
                    ]
                }
            ],
            "metadata": {}
        },
        {
            "cell_type": "code",
            "execution_count": 91,
            "source": [
                "# Slicing strings to get only numbers\r\n",
                "triple_jump_df['Mark'] = triple_jump_df['Mark'].str.slice(0,5)"
            ],
            "outputs": [],
            "metadata": {}
        },
        {
            "cell_type": "code",
            "execution_count": 99,
            "source": [
                "# Renaming some columns\r\n",
                "triple_jump_df = triple_jump_df.rename(columns={'Wind': 'Athlete', 'Athlete': 'Date', 'Date': 'Location'})"
            ],
            "outputs": [],
            "metadata": {}
        },
        {
            "cell_type": "code",
            "execution_count": 100,
            "source": [
                "# Slicing to get date value\r\n",
                "triple_jump_df['Date']= triple_jump_df['Date'].str.slice(stop=10)"
            ],
            "outputs": [],
            "metadata": {}
        },
        {
            "cell_type": "code",
            "execution_count": 106,
            "source": [
                "# Slicing the location value\r\n",
                "triple_jump_df['Location'] = triple_jump_df['Location'].str.slice(stop=-4)"
            ],
            "outputs": [],
            "metadata": {}
        },
        {
            "cell_type": "code",
            "execution_count": 102,
            "source": [
                "# Changing the index to date\r\n",
                "triple_jump_df.set_index('Date')"
            ],
            "outputs": [
                {
                    "output_type": "execute_result",
                    "data": {
                        "text/plain": [
                            "             Mark                         Athlete Country  \\\n",
                            "Date                                                        \n",
                            "1911-05-30  15.52                Dan Ahearn (USA)     USA   \n",
                            "1924-07-12  15.52               Nick Winter (AUS)     AUS   \n",
                            "1931-10-27  15.58                 Mikio Oda (JPN)     JPN   \n",
                            "1932-08-14  15.72              Chuhei Nambu (JPN)     JPN   \n",
                            "1935-12-14  15.78             Jack Metcalfe (AUS)     AUS   \n",
                            "1936-08-06  16.00              Naoto Tajima (JPN)     JPN   \n",
                            "1950-12-03  16.00          Adhemar da Silva (BRA)     BRA   \n",
                            "1951-09-30  16.01          Adhemar da Silva (BRA)     BRA   \n",
                            "1952-07-23  16.12          Adhemar da Silva (BRA)     BRA   \n",
                            "1952-07-23  16.22          Adhemar da Silva (BRA)     BRA   \n",
                            "1953-07-19  16.23        Leonid Shcherbakov (URS)     URS   \n",
                            "1955-03-16  16.56          Adhemar da Silva (BRA)     BRA   \n",
                            "1958-07-28  16.59          Oleg Ryakhovskiy (URS)     URS   \n",
                            "1959-05-03  16.70           Oleg Fyodoseyev (URS)     URS   \n",
                            "1960-08-05  17.03              Józef Szmidt (POL)     POL   \n",
                            "1968-10-16  17.10          Giuseppe Gentile (ITA)     ITA   \n",
                            "1968-10-17  17.22          Giuseppe Gentile (ITA)     ITA   \n",
                            "1968-10-17  17.23           Viktor Sanyeyev (URS)     URS   \n",
                            "1968-10-17  17.27          Nelson Prudêncio (BRA)     BRA   \n",
                            "1968-10-17  17.39           Viktor Sanyeyev (URS)     URS   \n",
                            "1971-08-05  17.40               Pedro Pérez (CUB)     CUB   \n",
                            "1972-10-17  17.44           Viktor Sanyeyev (URS)     URS   \n",
                            "1975-10-15  17.89   João Carlos de Oliveira (BRA)     BRA   \n",
                            "1985-06-16  17.97              Willie Banks (USA)     USA   \n",
                            "1995-07-18  17.98          Jonathan Edwards (GBR)     GBR   \n",
                            "1995-08-07  18.16          Jonathan Edwards (GBR)     GBR   \n",
                            "1995-08-07  18.29          Jonathan Edwards (GBR)     GBR   \n",
                            "\n",
                            "                               Location  \n",
                            "Date                                     \n",
                            "1911-05-30     New York City, U.S.[1]\\n  \n",
                            "1924-07-12           Paris, France[1]\\n  \n",
                            "1931-10-27            Tokyo, Japan[1]\\n  \n",
                            "1932-08-14       Los Angeles, U.S.[1]\\n  \n",
                            "1935-12-14       Sydney, Australia[1]\\n  \n",
                            "1936-08-06         Berlin, Germany[1]\\n  \n",
                            "1950-12-03       São Paulo, Brazil[1]\\n  \n",
                            "1951-09-30  Rio de Janeiro, Brazil[1]\\n  \n",
                            "1952-07-23       Helsinki, Finland[1]\\n  \n",
                            "1952-07-23       Helsinki, Finland[1]\\n  \n",
                            "1953-07-19    Moscow, Soviet Union[1]\\n  \n",
                            "1955-03-16     Mexico City, Mexico[1]\\n  \n",
                            "1958-07-28    Moscow, Soviet Union[1]\\n  \n",
                            "1959-05-03   Nalchik, Soviet Union[1]\\n  \n",
                            "1960-08-05         Olsztyn, Poland[1]\\n  \n",
                            "1968-10-16     Mexico City, Mexico[1]\\n  \n",
                            "1968-10-17     Mexico City, Mexico[1]\\n  \n",
                            "1968-10-17     Mexico City, Mexico[1]\\n  \n",
                            "1968-10-17     Mexico City, Mexico[1]\\n  \n",
                            "1968-10-17     Mexico City, Mexico[1]\\n  \n",
                            "1971-08-05          Cali, Colombia[1]\\n  \n",
                            "1972-10-17   Sukhumi, Soviet Union[1]\\n  \n",
                            "1975-10-15     Mexico City, Mexico[1]\\n  \n",
                            "1985-06-16      Indianapolis, U.S.[1]\\n  \n",
                            "1995-07-18        Salamanca, Spain[1]\\n  \n",
                            "1995-08-07      Gothenburg, Sweden[1]\\n  \n",
                            "1995-08-07      Gothenburg, Sweden[1]\\n  "
                        ],
                        "text/html": [
                            "<div>\n",
                            "<style scoped>\n",
                            "    .dataframe tbody tr th:only-of-type {\n",
                            "        vertical-align: middle;\n",
                            "    }\n",
                            "\n",
                            "    .dataframe tbody tr th {\n",
                            "        vertical-align: top;\n",
                            "    }\n",
                            "\n",
                            "    .dataframe thead th {\n",
                            "        text-align: right;\n",
                            "    }\n",
                            "</style>\n",
                            "<table border=\"1\" class=\"dataframe\">\n",
                            "  <thead>\n",
                            "    <tr style=\"text-align: right;\">\n",
                            "      <th></th>\n",
                            "      <th>Mark</th>\n",
                            "      <th>Athlete</th>\n",
                            "      <th>Country</th>\n",
                            "      <th>Location</th>\n",
                            "    </tr>\n",
                            "    <tr>\n",
                            "      <th>Date</th>\n",
                            "      <th></th>\n",
                            "      <th></th>\n",
                            "      <th></th>\n",
                            "      <th></th>\n",
                            "    </tr>\n",
                            "  </thead>\n",
                            "  <tbody>\n",
                            "    <tr>\n",
                            "      <th>1911-05-30</th>\n",
                            "      <td>15.52</td>\n",
                            "      <td>Dan Ahearn (USA)</td>\n",
                            "      <td>USA</td>\n",
                            "      <td>New York City, U.S.[1]\\n</td>\n",
                            "    </tr>\n",
                            "    <tr>\n",
                            "      <th>1924-07-12</th>\n",
                            "      <td>15.52</td>\n",
                            "      <td>Nick Winter (AUS)</td>\n",
                            "      <td>AUS</td>\n",
                            "      <td>Paris, France[1]\\n</td>\n",
                            "    </tr>\n",
                            "    <tr>\n",
                            "      <th>1931-10-27</th>\n",
                            "      <td>15.58</td>\n",
                            "      <td>Mikio Oda (JPN)</td>\n",
                            "      <td>JPN</td>\n",
                            "      <td>Tokyo, Japan[1]\\n</td>\n",
                            "    </tr>\n",
                            "    <tr>\n",
                            "      <th>1932-08-14</th>\n",
                            "      <td>15.72</td>\n",
                            "      <td>Chuhei Nambu (JPN)</td>\n",
                            "      <td>JPN</td>\n",
                            "      <td>Los Angeles, U.S.[1]\\n</td>\n",
                            "    </tr>\n",
                            "    <tr>\n",
                            "      <th>1935-12-14</th>\n",
                            "      <td>15.78</td>\n",
                            "      <td>Jack Metcalfe (AUS)</td>\n",
                            "      <td>AUS</td>\n",
                            "      <td>Sydney, Australia[1]\\n</td>\n",
                            "    </tr>\n",
                            "    <tr>\n",
                            "      <th>1936-08-06</th>\n",
                            "      <td>16.00</td>\n",
                            "      <td>Naoto Tajima (JPN)</td>\n",
                            "      <td>JPN</td>\n",
                            "      <td>Berlin, Germany[1]\\n</td>\n",
                            "    </tr>\n",
                            "    <tr>\n",
                            "      <th>1950-12-03</th>\n",
                            "      <td>16.00</td>\n",
                            "      <td>Adhemar da Silva (BRA)</td>\n",
                            "      <td>BRA</td>\n",
                            "      <td>São Paulo, Brazil[1]\\n</td>\n",
                            "    </tr>\n",
                            "    <tr>\n",
                            "      <th>1951-09-30</th>\n",
                            "      <td>16.01</td>\n",
                            "      <td>Adhemar da Silva (BRA)</td>\n",
                            "      <td>BRA</td>\n",
                            "      <td>Rio de Janeiro, Brazil[1]\\n</td>\n",
                            "    </tr>\n",
                            "    <tr>\n",
                            "      <th>1952-07-23</th>\n",
                            "      <td>16.12</td>\n",
                            "      <td>Adhemar da Silva (BRA)</td>\n",
                            "      <td>BRA</td>\n",
                            "      <td>Helsinki, Finland[1]\\n</td>\n",
                            "    </tr>\n",
                            "    <tr>\n",
                            "      <th>1952-07-23</th>\n",
                            "      <td>16.22</td>\n",
                            "      <td>Adhemar da Silva (BRA)</td>\n",
                            "      <td>BRA</td>\n",
                            "      <td>Helsinki, Finland[1]\\n</td>\n",
                            "    </tr>\n",
                            "    <tr>\n",
                            "      <th>1953-07-19</th>\n",
                            "      <td>16.23</td>\n",
                            "      <td>Leonid Shcherbakov (URS)</td>\n",
                            "      <td>URS</td>\n",
                            "      <td>Moscow, Soviet Union[1]\\n</td>\n",
                            "    </tr>\n",
                            "    <tr>\n",
                            "      <th>1955-03-16</th>\n",
                            "      <td>16.56</td>\n",
                            "      <td>Adhemar da Silva (BRA)</td>\n",
                            "      <td>BRA</td>\n",
                            "      <td>Mexico City, Mexico[1]\\n</td>\n",
                            "    </tr>\n",
                            "    <tr>\n",
                            "      <th>1958-07-28</th>\n",
                            "      <td>16.59</td>\n",
                            "      <td>Oleg Ryakhovskiy (URS)</td>\n",
                            "      <td>URS</td>\n",
                            "      <td>Moscow, Soviet Union[1]\\n</td>\n",
                            "    </tr>\n",
                            "    <tr>\n",
                            "      <th>1959-05-03</th>\n",
                            "      <td>16.70</td>\n",
                            "      <td>Oleg Fyodoseyev (URS)</td>\n",
                            "      <td>URS</td>\n",
                            "      <td>Nalchik, Soviet Union[1]\\n</td>\n",
                            "    </tr>\n",
                            "    <tr>\n",
                            "      <th>1960-08-05</th>\n",
                            "      <td>17.03</td>\n",
                            "      <td>Józef Szmidt (POL)</td>\n",
                            "      <td>POL</td>\n",
                            "      <td>Olsztyn, Poland[1]\\n</td>\n",
                            "    </tr>\n",
                            "    <tr>\n",
                            "      <th>1968-10-16</th>\n",
                            "      <td>17.10</td>\n",
                            "      <td>Giuseppe Gentile (ITA)</td>\n",
                            "      <td>ITA</td>\n",
                            "      <td>Mexico City, Mexico[1]\\n</td>\n",
                            "    </tr>\n",
                            "    <tr>\n",
                            "      <th>1968-10-17</th>\n",
                            "      <td>17.22</td>\n",
                            "      <td>Giuseppe Gentile (ITA)</td>\n",
                            "      <td>ITA</td>\n",
                            "      <td>Mexico City, Mexico[1]\\n</td>\n",
                            "    </tr>\n",
                            "    <tr>\n",
                            "      <th>1968-10-17</th>\n",
                            "      <td>17.23</td>\n",
                            "      <td>Viktor Sanyeyev (URS)</td>\n",
                            "      <td>URS</td>\n",
                            "      <td>Mexico City, Mexico[1]\\n</td>\n",
                            "    </tr>\n",
                            "    <tr>\n",
                            "      <th>1968-10-17</th>\n",
                            "      <td>17.27</td>\n",
                            "      <td>Nelson Prudêncio (BRA)</td>\n",
                            "      <td>BRA</td>\n",
                            "      <td>Mexico City, Mexico[1]\\n</td>\n",
                            "    </tr>\n",
                            "    <tr>\n",
                            "      <th>1968-10-17</th>\n",
                            "      <td>17.39</td>\n",
                            "      <td>Viktor Sanyeyev (URS)</td>\n",
                            "      <td>URS</td>\n",
                            "      <td>Mexico City, Mexico[1]\\n</td>\n",
                            "    </tr>\n",
                            "    <tr>\n",
                            "      <th>1971-08-05</th>\n",
                            "      <td>17.40</td>\n",
                            "      <td>Pedro Pérez (CUB)</td>\n",
                            "      <td>CUB</td>\n",
                            "      <td>Cali, Colombia[1]\\n</td>\n",
                            "    </tr>\n",
                            "    <tr>\n",
                            "      <th>1972-10-17</th>\n",
                            "      <td>17.44</td>\n",
                            "      <td>Viktor Sanyeyev (URS)</td>\n",
                            "      <td>URS</td>\n",
                            "      <td>Sukhumi, Soviet Union[1]\\n</td>\n",
                            "    </tr>\n",
                            "    <tr>\n",
                            "      <th>1975-10-15</th>\n",
                            "      <td>17.89</td>\n",
                            "      <td>João Carlos de Oliveira (BRA)</td>\n",
                            "      <td>BRA</td>\n",
                            "      <td>Mexico City, Mexico[1]\\n</td>\n",
                            "    </tr>\n",
                            "    <tr>\n",
                            "      <th>1985-06-16</th>\n",
                            "      <td>17.97</td>\n",
                            "      <td>Willie Banks (USA)</td>\n",
                            "      <td>USA</td>\n",
                            "      <td>Indianapolis, U.S.[1]\\n</td>\n",
                            "    </tr>\n",
                            "    <tr>\n",
                            "      <th>1995-07-18</th>\n",
                            "      <td>17.98</td>\n",
                            "      <td>Jonathan Edwards (GBR)</td>\n",
                            "      <td>GBR</td>\n",
                            "      <td>Salamanca, Spain[1]\\n</td>\n",
                            "    </tr>\n",
                            "    <tr>\n",
                            "      <th>1995-08-07</th>\n",
                            "      <td>18.16</td>\n",
                            "      <td>Jonathan Edwards (GBR)</td>\n",
                            "      <td>GBR</td>\n",
                            "      <td>Gothenburg, Sweden[1]\\n</td>\n",
                            "    </tr>\n",
                            "    <tr>\n",
                            "      <th>1995-08-07</th>\n",
                            "      <td>18.29</td>\n",
                            "      <td>Jonathan Edwards (GBR)</td>\n",
                            "      <td>GBR</td>\n",
                            "      <td>Gothenburg, Sweden[1]\\n</td>\n",
                            "    </tr>\n",
                            "  </tbody>\n",
                            "</table>\n",
                            "</div>"
                        ]
                    },
                    "metadata": {},
                    "execution_count": 102
                }
            ],
            "metadata": {}
        },
        {
            "cell_type": "code",
            "execution_count": 111,
            "source": [
                "triple_jump_df['Date'] = pd.to_datetime(triple_jump_df[\"Date\"]).dt.strftime('%Y-%m-%d')"
            ],
            "outputs": [],
            "metadata": {}
        },
        {
            "cell_type": "code",
            "execution_count": 112,
            "source": [
                "triple_jump_df.info()"
            ],
            "outputs": [
                {
                    "output_type": "stream",
                    "name": "stdout",
                    "text": [
                        "<class 'pandas.core.frame.DataFrame'>\n",
                        "RangeIndex: 27 entries, 0 to 26\n",
                        "Data columns (total 5 columns):\n",
                        " #   Column    Non-Null Count  Dtype \n",
                        "---  ------    --------------  ----- \n",
                        " 0   Mark      27 non-null     object\n",
                        " 1   Athlete   27 non-null     object\n",
                        " 2   Date      27 non-null     object\n",
                        " 3   Country   27 non-null     object\n",
                        " 4   Location  27 non-null     object\n",
                        "dtypes: object(5)\n",
                        "memory usage: 1.2+ KB\n"
                    ]
                }
            ],
            "metadata": {}
        },
        {
            "cell_type": "code",
            "execution_count": 142,
            "source": [
                "fig = go.Figure()\r\n",
                "fig.add_trace(go.Scatter(x=triple_jump_df.Date, y=triple_jump_df.Mark, mode='lines+markers', text=triple_jump_df['Mark'] + ' m' + triple_jump_df['Athlete']))\r\n",
                "fig.update_layout(title='Triple jump progression', xaxis_title='Year', yaxis_title='Height (m)')\r\n",
                "\r\n",
                "fig.update_layout(\r\n",
                "  xaxis=dict(showline=True, showgrid=True, showticklabels=True, linecolor='rgb(204, 204, 204)', linewidth=2, ticks='outside', \r\n",
                "  tickfont=dict(family='Arial', size=12, color='rgb(82, 82, 82)')),\r\n",
                "  autosize=False,\r\n",
                "  margin=dict(autoexpand=False, l=40, r=20, t=30),\r\n",
                "  plot_bgcolor='rgb(230, 230, 230)')\r\n",
                "fig.show()\r\n"
            ],
            "outputs": [
                {
                    "output_type": "display_data",
                    "data": {
                        "application/vnd.plotly.v1+json": {
                            "config": {
                                "plotlyServerURL": "https://plot.ly"
                            },
                            "data": [
                                {
                                    "mode": "lines+markers",
                                    "text": [
                                        "15.52 m Dan Ahearn (USA)",
                                        "15.52 m Nick Winter (AUS)",
                                        "15.58 m Mikio Oda (JPN)",
                                        "15.72 m Chuhei Nambu (JPN)",
                                        "15.78 m Jack Metcalfe (AUS)",
                                        "16.00 m Naoto Tajima (JPN)",
                                        "16.00 m Adhemar da Silva (BRA)",
                                        "16.01 m Adhemar da Silva (BRA)",
                                        "16.12 m Adhemar da Silva (BRA)",
                                        "16.22 m Adhemar da Silva (BRA)",
                                        "16.23 m Leonid Shcherbakov (URS)",
                                        "16.56 m Adhemar da Silva (BRA)",
                                        "16.59 m Oleg Ryakhovskiy (URS)",
                                        "16.70 m Oleg Fyodoseyev (URS)",
                                        "17.03 m Józef Szmidt (POL)",
                                        "17.10 m Giuseppe Gentile (ITA)",
                                        "17.22 m Giuseppe Gentile (ITA)",
                                        "17.23 m Viktor Sanyeyev (URS)",
                                        "17.27 m Nelson Prudêncio (BRA)",
                                        "17.39 m Viktor Sanyeyev (URS)",
                                        "17.40 m Pedro Pérez (CUB)",
                                        "17.44 m Viktor Sanyeyev (URS)",
                                        "17.89 m João Carlos de Oliveira (BRA)",
                                        "17.97 m Willie Banks (USA)",
                                        "17.98 m Jonathan Edwards (GBR)",
                                        "18.16 m Jonathan Edwards (GBR)",
                                        "18.29 m Jonathan Edwards (GBR)"
                                    ],
                                    "type": "scatter",
                                    "x": [
                                        "1911-05-30",
                                        "1924-07-12",
                                        "1931-10-27",
                                        "1932-08-14",
                                        "1935-12-14",
                                        "1936-08-06",
                                        "1950-12-03",
                                        "1951-09-30",
                                        "1952-07-23",
                                        "1952-07-23",
                                        "1953-07-19",
                                        "1955-03-16",
                                        "1958-07-28",
                                        "1959-05-03",
                                        "1960-08-05",
                                        "1968-10-16",
                                        "1968-10-17",
                                        "1968-10-17",
                                        "1968-10-17",
                                        "1968-10-17",
                                        "1971-08-05",
                                        "1972-10-17",
                                        "1975-10-15",
                                        "1985-06-16",
                                        "1995-07-18",
                                        "1995-08-07",
                                        "1995-08-07"
                                    ],
                                    "y": [
                                        "15.52",
                                        "15.52",
                                        "15.58",
                                        "15.72",
                                        "15.78",
                                        "16.00",
                                        "16.00",
                                        "16.01",
                                        "16.12",
                                        "16.22",
                                        "16.23",
                                        "16.56",
                                        "16.59",
                                        "16.70",
                                        "17.03",
                                        "17.10",
                                        "17.22",
                                        "17.23",
                                        "17.27",
                                        "17.39",
                                        "17.40",
                                        "17.44",
                                        "17.89",
                                        "17.97",
                                        "17.98",
                                        "18.16",
                                        "18.29"
                                    ]
                                }
                            ],
                            "layout": {
                                "autosize": false,
                                "margin": {
                                    "autoexpand": false,
                                    "l": 40,
                                    "r": 20,
                                    "t": 30
                                },
                                "plot_bgcolor": "rgb(230, 230, 230)",
                                "template": {
                                    "data": {
                                        "bar": [
                                            {
                                                "error_x": {
                                                    "color": "#2a3f5f"
                                                },
                                                "error_y": {
                                                    "color": "#2a3f5f"
                                                },
                                                "marker": {
                                                    "line": {
                                                        "color": "#E5ECF6",
                                                        "width": 0.5
                                                    },
                                                    "pattern": {
                                                        "fillmode": "overlay",
                                                        "size": 10,
                                                        "solidity": 0.2
                                                    }
                                                },
                                                "type": "bar"
                                            }
                                        ],
                                        "barpolar": [
                                            {
                                                "marker": {
                                                    "line": {
                                                        "color": "#E5ECF6",
                                                        "width": 0.5
                                                    },
                                                    "pattern": {
                                                        "fillmode": "overlay",
                                                        "size": 10,
                                                        "solidity": 0.2
                                                    }
                                                },
                                                "type": "barpolar"
                                            }
                                        ],
                                        "carpet": [
                                            {
                                                "aaxis": {
                                                    "endlinecolor": "#2a3f5f",
                                                    "gridcolor": "white",
                                                    "linecolor": "white",
                                                    "minorgridcolor": "white",
                                                    "startlinecolor": "#2a3f5f"
                                                },
                                                "baxis": {
                                                    "endlinecolor": "#2a3f5f",
                                                    "gridcolor": "white",
                                                    "linecolor": "white",
                                                    "minorgridcolor": "white",
                                                    "startlinecolor": "#2a3f5f"
                                                },
                                                "type": "carpet"
                                            }
                                        ],
                                        "choropleth": [
                                            {
                                                "colorbar": {
                                                    "outlinewidth": 0,
                                                    "ticks": ""
                                                },
                                                "type": "choropleth"
                                            }
                                        ],
                                        "contour": [
                                            {
                                                "colorbar": {
                                                    "outlinewidth": 0,
                                                    "ticks": ""
                                                },
                                                "colorscale": [
                                                    [
                                                        0,
                                                        "#0d0887"
                                                    ],
                                                    [
                                                        0.1111111111111111,
                                                        "#46039f"
                                                    ],
                                                    [
                                                        0.2222222222222222,
                                                        "#7201a8"
                                                    ],
                                                    [
                                                        0.3333333333333333,
                                                        "#9c179e"
                                                    ],
                                                    [
                                                        0.4444444444444444,
                                                        "#bd3786"
                                                    ],
                                                    [
                                                        0.5555555555555556,
                                                        "#d8576b"
                                                    ],
                                                    [
                                                        0.6666666666666666,
                                                        "#ed7953"
                                                    ],
                                                    [
                                                        0.7777777777777778,
                                                        "#fb9f3a"
                                                    ],
                                                    [
                                                        0.8888888888888888,
                                                        "#fdca26"
                                                    ],
                                                    [
                                                        1,
                                                        "#f0f921"
                                                    ]
                                                ],
                                                "type": "contour"
                                            }
                                        ],
                                        "contourcarpet": [
                                            {
                                                "colorbar": {
                                                    "outlinewidth": 0,
                                                    "ticks": ""
                                                },
                                                "type": "contourcarpet"
                                            }
                                        ],
                                        "heatmap": [
                                            {
                                                "colorbar": {
                                                    "outlinewidth": 0,
                                                    "ticks": ""
                                                },
                                                "colorscale": [
                                                    [
                                                        0,
                                                        "#0d0887"
                                                    ],
                                                    [
                                                        0.1111111111111111,
                                                        "#46039f"
                                                    ],
                                                    [
                                                        0.2222222222222222,
                                                        "#7201a8"
                                                    ],
                                                    [
                                                        0.3333333333333333,
                                                        "#9c179e"
                                                    ],
                                                    [
                                                        0.4444444444444444,
                                                        "#bd3786"
                                                    ],
                                                    [
                                                        0.5555555555555556,
                                                        "#d8576b"
                                                    ],
                                                    [
                                                        0.6666666666666666,
                                                        "#ed7953"
                                                    ],
                                                    [
                                                        0.7777777777777778,
                                                        "#fb9f3a"
                                                    ],
                                                    [
                                                        0.8888888888888888,
                                                        "#fdca26"
                                                    ],
                                                    [
                                                        1,
                                                        "#f0f921"
                                                    ]
                                                ],
                                                "type": "heatmap"
                                            }
                                        ],
                                        "heatmapgl": [
                                            {
                                                "colorbar": {
                                                    "outlinewidth": 0,
                                                    "ticks": ""
                                                },
                                                "colorscale": [
                                                    [
                                                        0,
                                                        "#0d0887"
                                                    ],
                                                    [
                                                        0.1111111111111111,
                                                        "#46039f"
                                                    ],
                                                    [
                                                        0.2222222222222222,
                                                        "#7201a8"
                                                    ],
                                                    [
                                                        0.3333333333333333,
                                                        "#9c179e"
                                                    ],
                                                    [
                                                        0.4444444444444444,
                                                        "#bd3786"
                                                    ],
                                                    [
                                                        0.5555555555555556,
                                                        "#d8576b"
                                                    ],
                                                    [
                                                        0.6666666666666666,
                                                        "#ed7953"
                                                    ],
                                                    [
                                                        0.7777777777777778,
                                                        "#fb9f3a"
                                                    ],
                                                    [
                                                        0.8888888888888888,
                                                        "#fdca26"
                                                    ],
                                                    [
                                                        1,
                                                        "#f0f921"
                                                    ]
                                                ],
                                                "type": "heatmapgl"
                                            }
                                        ],
                                        "histogram": [
                                            {
                                                "marker": {
                                                    "pattern": {
                                                        "fillmode": "overlay",
                                                        "size": 10,
                                                        "solidity": 0.2
                                                    }
                                                },
                                                "type": "histogram"
                                            }
                                        ],
                                        "histogram2d": [
                                            {
                                                "colorbar": {
                                                    "outlinewidth": 0,
                                                    "ticks": ""
                                                },
                                                "colorscale": [
                                                    [
                                                        0,
                                                        "#0d0887"
                                                    ],
                                                    [
                                                        0.1111111111111111,
                                                        "#46039f"
                                                    ],
                                                    [
                                                        0.2222222222222222,
                                                        "#7201a8"
                                                    ],
                                                    [
                                                        0.3333333333333333,
                                                        "#9c179e"
                                                    ],
                                                    [
                                                        0.4444444444444444,
                                                        "#bd3786"
                                                    ],
                                                    [
                                                        0.5555555555555556,
                                                        "#d8576b"
                                                    ],
                                                    [
                                                        0.6666666666666666,
                                                        "#ed7953"
                                                    ],
                                                    [
                                                        0.7777777777777778,
                                                        "#fb9f3a"
                                                    ],
                                                    [
                                                        0.8888888888888888,
                                                        "#fdca26"
                                                    ],
                                                    [
                                                        1,
                                                        "#f0f921"
                                                    ]
                                                ],
                                                "type": "histogram2d"
                                            }
                                        ],
                                        "histogram2dcontour": [
                                            {
                                                "colorbar": {
                                                    "outlinewidth": 0,
                                                    "ticks": ""
                                                },
                                                "colorscale": [
                                                    [
                                                        0,
                                                        "#0d0887"
                                                    ],
                                                    [
                                                        0.1111111111111111,
                                                        "#46039f"
                                                    ],
                                                    [
                                                        0.2222222222222222,
                                                        "#7201a8"
                                                    ],
                                                    [
                                                        0.3333333333333333,
                                                        "#9c179e"
                                                    ],
                                                    [
                                                        0.4444444444444444,
                                                        "#bd3786"
                                                    ],
                                                    [
                                                        0.5555555555555556,
                                                        "#d8576b"
                                                    ],
                                                    [
                                                        0.6666666666666666,
                                                        "#ed7953"
                                                    ],
                                                    [
                                                        0.7777777777777778,
                                                        "#fb9f3a"
                                                    ],
                                                    [
                                                        0.8888888888888888,
                                                        "#fdca26"
                                                    ],
                                                    [
                                                        1,
                                                        "#f0f921"
                                                    ]
                                                ],
                                                "type": "histogram2dcontour"
                                            }
                                        ],
                                        "mesh3d": [
                                            {
                                                "colorbar": {
                                                    "outlinewidth": 0,
                                                    "ticks": ""
                                                },
                                                "type": "mesh3d"
                                            }
                                        ],
                                        "parcoords": [
                                            {
                                                "line": {
                                                    "colorbar": {
                                                        "outlinewidth": 0,
                                                        "ticks": ""
                                                    }
                                                },
                                                "type": "parcoords"
                                            }
                                        ],
                                        "pie": [
                                            {
                                                "automargin": true,
                                                "type": "pie"
                                            }
                                        ],
                                        "scatter": [
                                            {
                                                "marker": {
                                                    "colorbar": {
                                                        "outlinewidth": 0,
                                                        "ticks": ""
                                                    }
                                                },
                                                "type": "scatter"
                                            }
                                        ],
                                        "scatter3d": [
                                            {
                                                "line": {
                                                    "colorbar": {
                                                        "outlinewidth": 0,
                                                        "ticks": ""
                                                    }
                                                },
                                                "marker": {
                                                    "colorbar": {
                                                        "outlinewidth": 0,
                                                        "ticks": ""
                                                    }
                                                },
                                                "type": "scatter3d"
                                            }
                                        ],
                                        "scattercarpet": [
                                            {
                                                "marker": {
                                                    "colorbar": {
                                                        "outlinewidth": 0,
                                                        "ticks": ""
                                                    }
                                                },
                                                "type": "scattercarpet"
                                            }
                                        ],
                                        "scattergeo": [
                                            {
                                                "marker": {
                                                    "colorbar": {
                                                        "outlinewidth": 0,
                                                        "ticks": ""
                                                    }
                                                },
                                                "type": "scattergeo"
                                            }
                                        ],
                                        "scattergl": [
                                            {
                                                "marker": {
                                                    "colorbar": {
                                                        "outlinewidth": 0,
                                                        "ticks": ""
                                                    }
                                                },
                                                "type": "scattergl"
                                            }
                                        ],
                                        "scattermapbox": [
                                            {
                                                "marker": {
                                                    "colorbar": {
                                                        "outlinewidth": 0,
                                                        "ticks": ""
                                                    }
                                                },
                                                "type": "scattermapbox"
                                            }
                                        ],
                                        "scatterpolar": [
                                            {
                                                "marker": {
                                                    "colorbar": {
                                                        "outlinewidth": 0,
                                                        "ticks": ""
                                                    }
                                                },
                                                "type": "scatterpolar"
                                            }
                                        ],
                                        "scatterpolargl": [
                                            {
                                                "marker": {
                                                    "colorbar": {
                                                        "outlinewidth": 0,
                                                        "ticks": ""
                                                    }
                                                },
                                                "type": "scatterpolargl"
                                            }
                                        ],
                                        "scatterternary": [
                                            {
                                                "marker": {
                                                    "colorbar": {
                                                        "outlinewidth": 0,
                                                        "ticks": ""
                                                    }
                                                },
                                                "type": "scatterternary"
                                            }
                                        ],
                                        "surface": [
                                            {
                                                "colorbar": {
                                                    "outlinewidth": 0,
                                                    "ticks": ""
                                                },
                                                "colorscale": [
                                                    [
                                                        0,
                                                        "#0d0887"
                                                    ],
                                                    [
                                                        0.1111111111111111,
                                                        "#46039f"
                                                    ],
                                                    [
                                                        0.2222222222222222,
                                                        "#7201a8"
                                                    ],
                                                    [
                                                        0.3333333333333333,
                                                        "#9c179e"
                                                    ],
                                                    [
                                                        0.4444444444444444,
                                                        "#bd3786"
                                                    ],
                                                    [
                                                        0.5555555555555556,
                                                        "#d8576b"
                                                    ],
                                                    [
                                                        0.6666666666666666,
                                                        "#ed7953"
                                                    ],
                                                    [
                                                        0.7777777777777778,
                                                        "#fb9f3a"
                                                    ],
                                                    [
                                                        0.8888888888888888,
                                                        "#fdca26"
                                                    ],
                                                    [
                                                        1,
                                                        "#f0f921"
                                                    ]
                                                ],
                                                "type": "surface"
                                            }
                                        ],
                                        "table": [
                                            {
                                                "cells": {
                                                    "fill": {
                                                        "color": "#EBF0F8"
                                                    },
                                                    "line": {
                                                        "color": "white"
                                                    }
                                                },
                                                "header": {
                                                    "fill": {
                                                        "color": "#C8D4E3"
                                                    },
                                                    "line": {
                                                        "color": "white"
                                                    }
                                                },
                                                "type": "table"
                                            }
                                        ]
                                    },
                                    "layout": {
                                        "annotationdefaults": {
                                            "arrowcolor": "#2a3f5f",
                                            "arrowhead": 0,
                                            "arrowwidth": 1
                                        },
                                        "autotypenumbers": "strict",
                                        "coloraxis": {
                                            "colorbar": {
                                                "outlinewidth": 0,
                                                "ticks": ""
                                            }
                                        },
                                        "colorscale": {
                                            "diverging": [
                                                [
                                                    0,
                                                    "#8e0152"
                                                ],
                                                [
                                                    0.1,
                                                    "#c51b7d"
                                                ],
                                                [
                                                    0.2,
                                                    "#de77ae"
                                                ],
                                                [
                                                    0.3,
                                                    "#f1b6da"
                                                ],
                                                [
                                                    0.4,
                                                    "#fde0ef"
                                                ],
                                                [
                                                    0.5,
                                                    "#f7f7f7"
                                                ],
                                                [
                                                    0.6,
                                                    "#e6f5d0"
                                                ],
                                                [
                                                    0.7,
                                                    "#b8e186"
                                                ],
                                                [
                                                    0.8,
                                                    "#7fbc41"
                                                ],
                                                [
                                                    0.9,
                                                    "#4d9221"
                                                ],
                                                [
                                                    1,
                                                    "#276419"
                                                ]
                                            ],
                                            "sequential": [
                                                [
                                                    0,
                                                    "#0d0887"
                                                ],
                                                [
                                                    0.1111111111111111,
                                                    "#46039f"
                                                ],
                                                [
                                                    0.2222222222222222,
                                                    "#7201a8"
                                                ],
                                                [
                                                    0.3333333333333333,
                                                    "#9c179e"
                                                ],
                                                [
                                                    0.4444444444444444,
                                                    "#bd3786"
                                                ],
                                                [
                                                    0.5555555555555556,
                                                    "#d8576b"
                                                ],
                                                [
                                                    0.6666666666666666,
                                                    "#ed7953"
                                                ],
                                                [
                                                    0.7777777777777778,
                                                    "#fb9f3a"
                                                ],
                                                [
                                                    0.8888888888888888,
                                                    "#fdca26"
                                                ],
                                                [
                                                    1,
                                                    "#f0f921"
                                                ]
                                            ],
                                            "sequentialminus": [
                                                [
                                                    0,
                                                    "#0d0887"
                                                ],
                                                [
                                                    0.1111111111111111,
                                                    "#46039f"
                                                ],
                                                [
                                                    0.2222222222222222,
                                                    "#7201a8"
                                                ],
                                                [
                                                    0.3333333333333333,
                                                    "#9c179e"
                                                ],
                                                [
                                                    0.4444444444444444,
                                                    "#bd3786"
                                                ],
                                                [
                                                    0.5555555555555556,
                                                    "#d8576b"
                                                ],
                                                [
                                                    0.6666666666666666,
                                                    "#ed7953"
                                                ],
                                                [
                                                    0.7777777777777778,
                                                    "#fb9f3a"
                                                ],
                                                [
                                                    0.8888888888888888,
                                                    "#fdca26"
                                                ],
                                                [
                                                    1,
                                                    "#f0f921"
                                                ]
                                            ]
                                        },
                                        "colorway": [
                                            "#636efa",
                                            "#EF553B",
                                            "#00cc96",
                                            "#ab63fa",
                                            "#FFA15A",
                                            "#19d3f3",
                                            "#FF6692",
                                            "#B6E880",
                                            "#FF97FF",
                                            "#FECB52"
                                        ],
                                        "font": {
                                            "color": "#2a3f5f"
                                        },
                                        "geo": {
                                            "bgcolor": "white",
                                            "lakecolor": "white",
                                            "landcolor": "#E5ECF6",
                                            "showlakes": true,
                                            "showland": true,
                                            "subunitcolor": "white"
                                        },
                                        "hoverlabel": {
                                            "align": "left"
                                        },
                                        "hovermode": "closest",
                                        "mapbox": {
                                            "style": "light"
                                        },
                                        "paper_bgcolor": "white",
                                        "plot_bgcolor": "#E5ECF6",
                                        "polar": {
                                            "angularaxis": {
                                                "gridcolor": "white",
                                                "linecolor": "white",
                                                "ticks": ""
                                            },
                                            "bgcolor": "#E5ECF6",
                                            "radialaxis": {
                                                "gridcolor": "white",
                                                "linecolor": "white",
                                                "ticks": ""
                                            }
                                        },
                                        "scene": {
                                            "xaxis": {
                                                "backgroundcolor": "#E5ECF6",
                                                "gridcolor": "white",
                                                "gridwidth": 2,
                                                "linecolor": "white",
                                                "showbackground": true,
                                                "ticks": "",
                                                "zerolinecolor": "white"
                                            },
                                            "yaxis": {
                                                "backgroundcolor": "#E5ECF6",
                                                "gridcolor": "white",
                                                "gridwidth": 2,
                                                "linecolor": "white",
                                                "showbackground": true,
                                                "ticks": "",
                                                "zerolinecolor": "white"
                                            },
                                            "zaxis": {
                                                "backgroundcolor": "#E5ECF6",
                                                "gridcolor": "white",
                                                "gridwidth": 2,
                                                "linecolor": "white",
                                                "showbackground": true,
                                                "ticks": "",
                                                "zerolinecolor": "white"
                                            }
                                        },
                                        "shapedefaults": {
                                            "line": {
                                                "color": "#2a3f5f"
                                            }
                                        },
                                        "ternary": {
                                            "aaxis": {
                                                "gridcolor": "white",
                                                "linecolor": "white",
                                                "ticks": ""
                                            },
                                            "baxis": {
                                                "gridcolor": "white",
                                                "linecolor": "white",
                                                "ticks": ""
                                            },
                                            "bgcolor": "#E5ECF6",
                                            "caxis": {
                                                "gridcolor": "white",
                                                "linecolor": "white",
                                                "ticks": ""
                                            }
                                        },
                                        "title": {
                                            "x": 0.05
                                        },
                                        "xaxis": {
                                            "automargin": true,
                                            "gridcolor": "white",
                                            "linecolor": "white",
                                            "ticks": "",
                                            "title": {
                                                "standoff": 15
                                            },
                                            "zerolinecolor": "white",
                                            "zerolinewidth": 2
                                        },
                                        "yaxis": {
                                            "automargin": true,
                                            "gridcolor": "white",
                                            "linecolor": "white",
                                            "ticks": "",
                                            "title": {
                                                "standoff": 15
                                            },
                                            "zerolinecolor": "white",
                                            "zerolinewidth": 2
                                        }
                                    }
                                },
                                "title": {
                                    "text": "Triple jump progression"
                                },
                                "xaxis": {
                                    "linecolor": "rgb(204, 204, 204)",
                                    "linewidth": 2,
                                    "showgrid": true,
                                    "showline": true,
                                    "showticklabels": true,
                                    "tickfont": {
                                        "color": "rgb(82, 82, 82)",
                                        "family": "Arial",
                                        "size": 12
                                    },
                                    "ticks": "outside",
                                    "title": {
                                        "text": "Year"
                                    }
                                },
                                "yaxis": {
                                    "title": {
                                        "text": "Height (m)"
                                    }
                                }
                            }
                        }
                    },
                    "metadata": {}
                }
            ],
            "metadata": {}
        },
        {
            "cell_type": "code",
            "execution_count": 143,
            "source": [
                "triple_jump_df.to_csv('triple-jump.csv')"
            ],
            "outputs": [],
            "metadata": {}
        },
        {
            "cell_type": "code",
            "execution_count": null,
            "source": [],
            "outputs": [],
            "metadata": {}
        }
    ],
    "metadata": {
        "orig_nbformat": 4,
        "language_info": {
            "name": "python",
            "version": "3.8.3",
            "mimetype": "text/x-python",
            "codemirror_mode": {
                "name": "ipython",
                "version": 3
            },
            "pygments_lexer": "ipython3",
            "nbconvert_exporter": "python",
            "file_extension": ".py"
        },
        "kernelspec": {
            "name": "python3",
            "display_name": "Python 3.8.3 64-bit ('base': conda)"
        },
        "interpreter": {
            "hash": "b3ba2566441a7c06988d0923437866b63cedc61552a5af99d1f4fb67d367b25f"
        }
    },
    "nbformat": 4,
    "nbformat_minor": 2
}